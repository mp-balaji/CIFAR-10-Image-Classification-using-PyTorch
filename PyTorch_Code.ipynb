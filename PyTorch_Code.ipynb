{
 "cells": [
  {
   "cell_type": "markdown",
   "metadata": {},
   "source": [
    "# ECS7026P - Neural Networks and Deep Learning Coursework: CIFAR-10 Classification\n",
    "\n",
    "#### **Student ID Number:** 231041407\n",
    "#### **Name:** Balaji Muthurathinam Panneer Chelvan"
   ]
  },
  {
   "cell_type": "markdown",
   "metadata": {},
   "source": [
    "**This code will first try to import torch. If it's not installed and the import fails, it will print a message indicating that PyTorch is not installed and then proceed to install it using pip.**"
   ]
  },
  {
   "cell_type": "code",
   "execution_count": 21,
   "metadata": {},
   "outputs": [],
   "source": [
    "try:\n",
    "    import torch\n",
    "except ImportError:\n",
    "    print(\"PyTorch is not installed. Installing now...\")\n",
    "    !pip install torch\n"
   ]
  },
  {
   "cell_type": "code",
   "execution_count": 22,
   "metadata": {},
   "outputs": [
    {
     "name": "stdout",
     "output_type": "stream",
     "text": [
      "Requirement already satisfied: seaborn in /opt/conda/lib/python3.11/site-packages (0.13.2)\n",
      "Requirement already satisfied: numpy!=1.24.0,>=1.20 in /opt/conda/lib/python3.11/site-packages (from seaborn) (1.26.3)\n",
      "Requirement already satisfied: pandas>=1.2 in /opt/conda/lib/python3.11/site-packages (from seaborn) (2.2.2)\n",
      "Requirement already satisfied: matplotlib!=3.6.1,>=3.4 in /opt/conda/lib/python3.11/site-packages (from seaborn) (3.8.3)\n",
      "Requirement already satisfied: contourpy>=1.0.1 in /opt/conda/lib/python3.11/site-packages (from matplotlib!=3.6.1,>=3.4->seaborn) (1.2.0)\n",
      "Requirement already satisfied: cycler>=0.10 in /opt/conda/lib/python3.11/site-packages (from matplotlib!=3.6.1,>=3.4->seaborn) (0.12.1)\n",
      "Requirement already satisfied: fonttools>=4.22.0 in /opt/conda/lib/python3.11/site-packages (from matplotlib!=3.6.1,>=3.4->seaborn) (4.49.0)\n",
      "Requirement already satisfied: kiwisolver>=1.3.1 in /opt/conda/lib/python3.11/site-packages (from matplotlib!=3.6.1,>=3.4->seaborn) (1.4.5)\n",
      "Requirement already satisfied: packaging>=20.0 in /opt/conda/lib/python3.11/site-packages (from matplotlib!=3.6.1,>=3.4->seaborn) (23.2)\n",
      "Requirement already satisfied: pillow>=8 in /opt/conda/lib/python3.11/site-packages (from matplotlib!=3.6.1,>=3.4->seaborn) (9.4.0)\n",
      "Requirement already satisfied: pyparsing>=2.3.1 in /opt/conda/lib/python3.11/site-packages (from matplotlib!=3.6.1,>=3.4->seaborn) (3.1.2)\n",
      "Requirement already satisfied: python-dateutil>=2.7 in /opt/conda/lib/python3.11/site-packages (from matplotlib!=3.6.1,>=3.4->seaborn) (2.8.2)\n",
      "Requirement already satisfied: pytz>=2020.1 in /opt/conda/lib/python3.11/site-packages (from pandas>=1.2->seaborn) (2023.3.post1)\n",
      "Requirement already satisfied: tzdata>=2022.7 in /opt/conda/lib/python3.11/site-packages (from pandas>=1.2->seaborn) (2024.1)\n",
      "Requirement already satisfied: six>=1.5 in /opt/conda/lib/python3.11/site-packages (from python-dateutil>=2.7->matplotlib!=3.6.1,>=3.4->seaborn) (1.16.0)\n"
     ]
    }
   ],
   "source": [
    "!pip install seaborn\n",
    "import seaborn as sns\n"
   ]
  },
  {
   "cell_type": "code",
   "execution_count": 23,
   "metadata": {},
   "outputs": [
    {
     "name": "stdout",
     "output_type": "stream",
     "text": [
      "PyTorch version: 2.1.2\n",
      "torchvision version: 0.16.2\n"
     ]
    }
   ],
   "source": [
    "# Import PyTorch library and its submodules\n",
    "import torch\n",
    "from torch import nn\n",
    "import torch.nn.functional as F\n",
    "\n",
    "# Import torchvision library and its submodules for datasets and transforms\n",
    "import torchvision\n",
    "from torchvision import datasets\n",
    "from torchvision.transforms import ToTensor\n",
    "import torch.optim as optim\n",
    "import torchvision.transforms as transforms\n",
    "\n",
    "# Import matplotlib for visualization purposes\n",
    "import matplotlib.pyplot as plt\n",
    "import seaborn as sns\n",
    "\n",
    "# Import DataLoader for loading data efficiently\n",
    "from torch.utils.data import DataLoader\n",
    "\n",
    "# Import numpy for numerical operations\n",
    "import numpy as np\n",
    "\n",
    "# Import random for generating random numbers\n",
    "import random\n",
    "\n",
    "# Check versions of PyTorch and torchvision\n",
    "print(f\"PyTorch version: {torch.__version__}\\ntorchvision version: {torchvision.__version__}\")\n"
   ]
  },
  {
   "cell_type": "code",
   "execution_count": 24,
   "metadata": {},
   "outputs": [
    {
     "name": "stdout",
     "output_type": "stream",
     "text": [
      "Using device: cuda\n"
     ]
    }
   ],
   "source": [
    "# Check if GPU is available and set device accordingly\n",
    "device = torch.device(\"cuda\" if torch.cuda.is_available() else \"cpu\")\n",
    "print(\"Using device:\", device)\n",
    "\n",
    "# Set random seed for reproducibility\n",
    "random_seed = 42\n",
    "torch.manual_seed(random_seed)\n",
    "random.seed(random_seed)\n",
    "np.random.seed(random_seed)\n",
    "\n",
    "# Set random seed for CUDA if GPU is available\n",
    "if device.type == \"cuda\":\n",
    "    torch.cuda.manual_seed_all(random_seed)\n",
    "    torch.backends.cudnn.deterministic = True\n",
    "    torch.backends.cudnn.benchmark = False\n",
    "\n",
    "# Uncomment the line below to display GPU information\n",
    "# !nvidia-smi"
   ]
  },
  {
   "cell_type": "code",
   "execution_count": 25,
   "metadata": {},
   "outputs": [],
   "source": [
    "BATCH_SIZE = 64\n",
    "EPOCHS = 35\n",
    "IMAGE_SIZE = 32\n",
    "\n",
    "# Optimiser Constants\n",
    "ADAMW_LEARNING_RATE = 0.001\n",
    "ADAMW_WEIGHT_DECAY = 1e-2\n",
    "\n",
    "# Block Constants\n",
    "CONV2D_KERNEL_SIZE = 3\n",
    "CONV2D_PADDING = 1\n",
    "CONV2D_STRIDE = 1\n",
    "MAXPOOL2D_KERNEL_SIZE = 2\n",
    "MAXPOOL2D_STRIDE = 2\n",
    "\n",
    "# Classifier Constants\n",
    "DROPOUT_RATE = 0.5"
   ]
  },
  {
   "cell_type": "markdown",
   "metadata": {},
   "source": [
    "# Task 1. Creating DataLoaders for CIFAR-10 Dataset (5%)"
   ]
  },
  {
   "cell_type": "code",
   "execution_count": 26,
   "metadata": {
    "id": "N94wOTfHjGgD"
   },
   "outputs": [],
   "source": [
    "train_transformations = transforms.Compose(\n",
    "    [\n",
    "        transforms.RandomHorizontalFlip(),\n",
    "        transforms.RandomCrop(IMAGE_SIZE, padding=4),\n",
    "        transforms.ToTensor(),\n",
    "        transforms.Normalize((0.5, 0.5, 0.5), (0.5, 0.5, 0.5)),\n",
    "    ]\n",
    ")\n",
    "test_transformations = transforms.Compose(\n",
    "    [transforms.ToTensor(), transforms.Normalize((0.5, 0.5, 0.5), (0.5, 0.5, 0.5))]\n",
    ")"
   ]
  },
  {
   "cell_type": "code",
   "execution_count": 27,
   "metadata": {
    "colab": {
     "base_uri": "https://localhost:8080/"
    },
    "id": "kOe2sHrVu0Li",
    "outputId": "05749dba-909f-43a9-cfff-0f36e602f55b"
   },
   "outputs": [
    {
     "name": "stdout",
     "output_type": "stream",
     "text": [
      "Files already downloaded and verified\n",
      "Files already downloaded and verified\n"
     ]
    }
   ],
   "source": [
    "# Setup training data\n",
    "train_data = datasets.CIFAR10(\n",
    "    root=\"data\", # where to download data to?\n",
    "    train=True, # get training data\n",
    "    download=True, # download data if it doesn't exist on disk\n",
    "    transform=train_transformations, # images come as PIL format, we want to turn into Torch tensors\n",
    "    target_transform=None # you can transform labels as well\n",
    ")\n",
    "\n",
    "# Setup testing data\n",
    "test_data = datasets.CIFAR10(\n",
    "    root=\"data\",\n",
    "    train=False, # get test data\n",
    "    download=True,\n",
    "    transform=test_transformations\n",
    ")"
   ]
  },
  {
   "cell_type": "markdown",
   "metadata": {
    "id": "F8rjkcl9wylJ"
   },
   "source": [
    "Training sample"
   ]
  },
  {
   "cell_type": "code",
   "execution_count": 28,
   "metadata": {
    "colab": {
     "base_uri": "https://localhost:8080/"
    },
    "id": "P3AB-Mz4w19d",
    "outputId": "d5e9e731-cf44-45bb-af4d-fe10d1edc013",
    "scrolled": true
   },
   "outputs": [
    {
     "data": {
      "text/plain": [
       "(tensor([[[-0.6000, -0.3098, -0.0588,  ..., -1.0000, -1.0000, -1.0000],\n",
       "          [-0.3490, -0.1373,  0.0118,  ..., -1.0000, -1.0000, -1.0000],\n",
       "          [-0.1686, -0.0980, -0.0824,  ..., -1.0000, -1.0000, -1.0000],\n",
       "          ...,\n",
       "          [ 0.5216,  0.5529,  0.5765,  ..., -1.0000, -1.0000, -1.0000],\n",
       "          [ 0.4745,  0.5843,  0.7098,  ..., -1.0000, -1.0000, -1.0000],\n",
       "          [-1.0000, -1.0000, -1.0000,  ..., -1.0000, -1.0000, -1.0000]],\n",
       " \n",
       "         [[-0.7882, -0.6000, -0.3569,  ..., -1.0000, -1.0000, -1.0000],\n",
       "          [-0.6078, -0.4353, -0.2784,  ..., -1.0000, -1.0000, -1.0000],\n",
       "          [-0.5059, -0.4510, -0.4196,  ..., -1.0000, -1.0000, -1.0000],\n",
       "          ...,\n",
       "          [ 0.2000,  0.2392,  0.2863,  ..., -1.0000, -1.0000, -1.0000],\n",
       "          [ 0.1686,  0.3176,  0.4824,  ..., -1.0000, -1.0000, -1.0000],\n",
       "          [-1.0000, -1.0000, -1.0000,  ..., -1.0000, -1.0000, -1.0000]],\n",
       " \n",
       "         [[-0.9373, -0.8353, -0.6627,  ..., -1.0000, -1.0000, -1.0000],\n",
       "          [-0.8196, -0.6784, -0.5765,  ..., -1.0000, -1.0000, -1.0000],\n",
       "          [-0.7804, -0.7412, -0.7255,  ..., -1.0000, -1.0000, -1.0000],\n",
       "          ...,\n",
       "          [-0.8039, -0.7333, -0.7176,  ..., -1.0000, -1.0000, -1.0000],\n",
       "          [-0.4745, -0.4667, -0.4039,  ..., -1.0000, -1.0000, -1.0000],\n",
       "          [-1.0000, -1.0000, -1.0000,  ..., -1.0000, -1.0000, -1.0000]]]),\n",
       " 6)"
      ]
     },
     "execution_count": 28,
     "metadata": {},
     "output_type": "execute_result"
    }
   ],
   "source": [
    "# See first training sample\n",
    "image, label = train_data[0]\n",
    "image, label"
   ]
  },
  {
   "cell_type": "code",
   "execution_count": 29,
   "metadata": {},
   "outputs": [
    {
     "data": {
      "text/plain": [
       "torch.Size([3, 32, 32])"
      ]
     },
     "execution_count": 29,
     "metadata": {},
     "output_type": "execute_result"
    }
   ],
   "source": [
    "# Checking the the shape of the image\n",
    "image.shape"
   ]
  },
  {
   "cell_type": "code",
   "execution_count": 30,
   "metadata": {},
   "outputs": [
    {
     "data": {
      "text/plain": [
       "(50000, 50000, 10000, 10000)"
      ]
     },
     "execution_count": 30,
     "metadata": {},
     "output_type": "execute_result"
    }
   ],
   "source": [
    "# Checking the number of samples in train and test dataset\n",
    "len(train_data.data), len(train_data.targets), len(test_data.data), len(test_data.targets)"
   ]
  },
  {
   "cell_type": "code",
   "execution_count": 31,
   "metadata": {},
   "outputs": [
    {
     "data": {
      "text/plain": [
       "['airplane',\n",
       " 'automobile',\n",
       " 'bird',\n",
       " 'cat',\n",
       " 'deer',\n",
       " 'dog',\n",
       " 'frog',\n",
       " 'horse',\n",
       " 'ship',\n",
       " 'truck']"
      ]
     },
     "execution_count": 31,
     "metadata": {},
     "output_type": "execute_result"
    }
   ],
   "source": [
    "# Checking the different classes present in the dataset\n",
    "class_names = train_data.classes\n",
    "class_names"
   ]
  },
  {
   "cell_type": "code",
   "execution_count": 32,
   "metadata": {},
   "outputs": [
    {
     "data": {
      "text/plain": [
       "{'airplane': 0,\n",
       " 'automobile': 1,\n",
       " 'bird': 2,\n",
       " 'cat': 3,\n",
       " 'deer': 4,\n",
       " 'dog': 5,\n",
       " 'frog': 6,\n",
       " 'horse': 7,\n",
       " 'ship': 8,\n",
       " 'truck': 9}"
      ]
     },
     "execution_count": 32,
     "metadata": {},
     "output_type": "execute_result"
    }
   ],
   "source": [
    "# Displaying each class with its index\n",
    "class_to_idx = train_data.class_to_idx\n",
    "class_to_idx"
   ]
  },
  {
   "cell_type": "code",
   "execution_count": 33,
   "metadata": {},
   "outputs": [
    {
     "name": "stdout",
     "output_type": "stream",
     "text": [
      "Class: frog, Count: 5000\n",
      "Class: truck, Count: 5000\n",
      "Class: deer, Count: 5000\n",
      "Class: automobile, Count: 5000\n",
      "Class: bird, Count: 5000\n",
      "Class: horse, Count: 5000\n",
      "Class: ship, Count: 5000\n",
      "Class: cat, Count: 5000\n",
      "Class: dog, Count: 5000\n",
      "Class: airplane, Count: 5000\n"
     ]
    }
   ],
   "source": [
    "# Counting the records under each class\n",
    "from collections import defaultdict\n",
    "\n",
    "# Initialize a dictionary to store the count of records for each class\n",
    "class_counts = defaultdict(int)\n",
    "\n",
    "# Iterate over the training dataset to count the occurrences of each class label\n",
    "for _, label in train_data:\n",
    "    class_counts[class_names[label]] += 1\n",
    "\n",
    "# Print the counts for each class\n",
    "for class_name, count in class_counts.items():\n",
    "    print(f\"Class: {class_name}, Count: {count}\")\n"
   ]
  },
  {
   "cell_type": "markdown",
   "metadata": {},
   "source": [
    "**Inference: The above results show that we have balanced classes**"
   ]
  },
  {
   "cell_type": "code",
   "execution_count": 34,
   "metadata": {},
   "outputs": [
    {
     "name": "stderr",
     "output_type": "stream",
     "text": [
      "Clipping input data to the valid range for imshow with RGB data ([0..1] for floats or [0..255] for integers).\n"
     ]
    },
    {
     "name": "stdout",
     "output_type": "stream",
     "text": [
      "Image shape: torch.Size([3, 32, 32])\n"
     ]
    },
    {
     "data": {
      "image/png": "[encoded data removed]",
      "text/plain": [
       "<Figure size 640x480 with 1 Axes>"
      ]
     },
     "metadata": {},
     "output_type": "display_data"
    }
   ],
   "source": [
    "# Displaying a random image\n",
    "import matplotlib.pyplot as plt\n",
    "\n",
    "# Extract a single image and its corresponding label from the training dataset\n",
    "image, label = train_data[3]\n",
    "\n",
    "# Print the shape of the image tensor\n",
    "print(f\"Image shape: {image.shape}\")\n",
    "\n",
    "# Display the image using matplotlib\n",
    "plt.imshow(np.transpose(image, (1, 2, 0)))  # Transpose the image tensor to match matplotlib's format (height, width, channels)\n",
    "plt.title(class_names[label])\n",
    "plt.show()\n"
   ]
  },
  {
   "cell_type": "code",
   "execution_count": 35,
   "metadata": {},
   "outputs": [
    {
     "name": "stderr",
     "output_type": "stream",
     "text": [
      "Clipping input data to the valid range for imshow with RGB data ([0..1] for floats or [0..255] for integers).\n",
      "Clipping input data to the valid range for imshow with RGB data ([0..1] for floats or [0..255] for integers).\n",
      "Clipping input data to the valid range for imshow with RGB data ([0..1] for floats or [0..255] for integers).\n",
      "Clipping input data to the valid range for imshow with RGB data ([0..1] for floats or [0..255] for integers).\n",
      "Clipping input data to the valid range for imshow with RGB data ([0..1] for floats or [0..255] for integers).\n",
      "Clipping input data to the valid range for imshow with RGB data ([0..1] for floats or [0..255] for integers).\n",
      "Clipping input data to the valid range for imshow with RGB data ([0..1] for floats or [0..255] for integers).\n",
      "Clipping input data to the valid range for imshow with RGB data ([0..1] for floats or [0..255] for integers).\n",
      "Clipping input data to the valid range for imshow with RGB data ([0..1] for floats or [0..255] for integers).\n",
      "Clipping input data to the valid range for imshow with RGB data ([0..1] for floats or [0..255] for integers).\n",
      "Clipping input data to the valid range for imshow with RGB data ([0..1] for floats or [0..255] for integers).\n",
      "Clipping input data to the valid range for imshow with RGB data ([0..1] for floats or [0..255] for integers).\n",
      "Clipping input data to the valid range for imshow with RGB data ([0..1] for floats or [0..255] for integers).\n",
      "Clipping input data to the valid range for imshow with RGB data ([0..1] for floats or [0..255] for integers).\n",
      "Clipping input data to the valid range for imshow with RGB data ([0..1] for floats or [0..255] for integers).\n",
      "Clipping input data to the valid range for imshow with RGB data ([0..1] for floats or [0..255] for integers).\n"
     ]
    },
    {
     "data": {
      "image/png": "[encoded data removed]",
      "text/plain": [
       "<Figure size 900x900 with 16 Axes>"
      ]
     },
     "metadata": {},
     "output_type": "display_data"
    }
   ],
   "source": [
    "# Plotting more images\n",
    "torch.manual_seed(random_seed)\n",
    "fig = plt.figure(figsize=(9, 9))\n",
    "rows, cols = 4, 4\n",
    "for i in range(1, rows * cols + 1):\n",
    "    random_idx = torch.randint(0, len(train_data), size=[1]).item()\n",
    "    img, label = train_data[random_idx]\n",
    "    fig.add_subplot(rows, cols, i)\n",
    "    plt.imshow(np.transpose(img, (1, 2, 0)))\n",
    "    plt.title(class_names[label])\n",
    "    plt.axis(False);"
   ]
  },
  {
   "cell_type": "code",
   "execution_count": 36,
   "metadata": {
    "colab": {
     "base_uri": "https://localhost:8080/"
    },
    "id": "0eHISPsv2j6G",
    "outputId": "1a20e5a0-e209-44bf-f469-6cfe5658e9de"
   },
   "outputs": [
    {
     "name": "stdout",
     "output_type": "stream",
     "text": [
      "Dataloaders: (<torch.utils.data.dataloader.DataLoader object at 0x7fe62c6000d0>, <torch.utils.data.dataloader.DataLoader object at 0x7fe6ee966150>)\n",
      "Length of train dataloader: 782 batches of 64\n",
      "Length of test dataloader: 157 batches of 64\n"
     ]
    }
   ],
   "source": [
    "from torch.utils.data import DataLoader\n",
    "\n",
    "# Turn datasets into iterables (batches)\n",
    "train_dataloader = DataLoader(train_data, # dataset to turn into iterable\n",
    "    batch_size=BATCH_SIZE, # how many samples per batch?\n",
    "    shuffle=True # shuffle data every epoch?\n",
    ")\n",
    "\n",
    "test_dataloader = DataLoader(test_data,\n",
    "    batch_size=BATCH_SIZE,\n",
    "    shuffle=False # don't necessarily have to shuffle the testing data\n",
    ")\n",
    "\n",
    "# Let's check out what we've created\n",
    "print(f\"Dataloaders: {train_dataloader, test_dataloader}\")\n",
    "print(f\"Length of train dataloader: {len(train_dataloader)} batches of {BATCH_SIZE}\")\n",
    "print(f\"Length of test dataloader: {len(test_dataloader)} batches of {BATCH_SIZE}\")"
   ]
  },
  {
   "cell_type": "code",
   "execution_count": 37,
   "metadata": {
    "colab": {
     "base_uri": "https://localhost:8080/"
    },
    "id": "8ZzejadM5rRO",
    "outputId": "5bc24382-3092-441e-9533-49a0a138cc18"
   },
   "outputs": [
    {
     "data": {
      "text/plain": [
       "(torch.Size([64, 3, 32, 32]), torch.Size([64]))"
      ]
     },
     "execution_count": 37,
     "metadata": {},
     "output_type": "execute_result"
    }
   ],
   "source": [
    "# Inside the training dataloader\n",
    "train_features_batch, train_labels_batch = next(iter(train_dataloader))\n",
    "train_features_batch.shape, train_labels_batch.shape"
   ]
  },
  {
   "cell_type": "markdown",
   "metadata": {},
   "source": [
    "# Baseline Model Architecture"
   ]
  },
  {
   "cell_type": "markdown",
   "metadata": {},
   "source": [
    "## Task 2: Implementation of Neural Network Architecture (40%)"
   ]
  },
  {
   "cell_type": "markdown",
   "metadata": {},
   "source": [
    "### Basic Model : Intermediate Block Class, OutputBlock Class and BasicModel Class"
   ]
  },
  {
   "cell_type": "markdown",
   "metadata": {},
   "source": [
    "The Baseline Model Architecture consists of 3 classes IntermediateBlock, OutputBlock and Basic_Model classes which are subclassed from nn.Module class\n",
    "\n",
    "1. `IntermediateBlock`:\n",
    "   - This class is used to define a series of intermediate blocks responsible for feature extraction from the input data.\n",
    "   - Each instance of this block consists of a specified number of convolutional layers followed by batch normalization and an activation function (ReLu).\n",
    "   - Each layer applies a convolution operation to its input, with parameters for the number of input channels (in_channels), number of output channels (out_channels), kernel size, padding, and stride.\n",
    "   - Batch Normalization Follows each convolutional operation to stabilize learning by normalizing the output of the previous layer. This can lead to faster convergence and improved overall network performance.\n",
    "   - The activation function introduces non-linearity into the model, enabling it to learn complex patterns.\n",
    "   - A linear layer that reduces the dimensionality of the channel-averaged input to match the number of convolutional layers. This layer is crucial for computing weights that are used in a weighted sum operation, effectively combining the outputs of the convolutional layers\n",
    "   - After the convolutional layers, there is a fully connected layer (`fc`) that computes weights (`a`) using softmax activation. These weights are are then combined to get the feature maps generated by the convolutional layers.\n",
    "   - The final output (`x_prime`) is the weighted sum of the feature maps.\n",
    "\n",
    "2. `OutputBlock`:\n",
    "   - This class defines the output block or classifier block of the model, responsible for producing the final classification logits.\n",
    "   - The class computes the mean of feature maps along the 3 channels of the image before passing them through the fully connected layers.\n",
    "   - It consists of multiple fully connected layers, each followed by activation (ReLU by default), except for the last layer.\n",
    "   - Activation Function is applied between fully connected layers to introduce non-linearity, except for the output of the final layer which is intended to be logits.\n",
    "   - The number of fully connected layers is determined by the `num_fc_layers` parameter.\n",
    "   - The final fully connected layer maps the output to the number of classes in the classification task.\n",
    "\n",
    "3. `Basic_Model`:\n",
    "  **This class covers the overall network architecture, orchestrating the flow of data through a series of IntermediateBlock instances followed by an OutputBlock. It is the main class that integrates the feature extraction and classification components of the model.**\n",
    "\n",
    "   - It initializes the first convolutional block (`conv_block_1`) with input channels to hidden units.\n",
    "   - Additional intermediate blocks (`intermediate_blocks`) are created based on the `num_blocks` parameter, **each having the same architecture** as `conv_block_1`.\n",
    "   - The output block (`output_block`) produces the final classification logits.\n",
    "   - During the forward pass, input data is passed through the intermediate blocks sequentially within which in each convolution layers it passes parallely, followed by the output block to produce the final output."
   ]
  },
  {
   "cell_type": "code",
   "execution_count": 38,
   "metadata": {},
   "outputs": [],
   "source": [
    "class IntermediateBlock(nn.Module):\n",
    "    def __init__(self, in_channels, out_channels, num_layers, kernel_size=3, activation=nn.ReLU()):\n",
    "        super(IntermediateBlock, self).__init__()\n",
    "        \n",
    "        # Initialize a ModuleList to store convolutional layers\n",
    "        self.conv_layers = nn.ModuleList([])\n",
    "        \n",
    "        # Create num_layers sequential convolutional layers with batch normalization and activation\n",
    "        for _ in range(num_layers):\n",
    "            self.conv_layers.append(nn.Sequential(\n",
    "                nn.Conv2d(in_channels, out_channels, kernel_size=kernel_size, padding=1, stride=1),\n",
    "                nn.BatchNorm2d(out_channels),\n",
    "                activation\n",
    "            ))\n",
    "        \n",
    "        # Fully connected layer to compute weights for combining feature maps\n",
    "        self.fc = nn.Linear(in_channels, num_layers)\n",
    "\n",
    "    def forward(self, x):\n",
    "        # Compute mean separately for each color channel\n",
    "        m = x.mean([2, 3])\n",
    "        \n",
    "        # Calculate weights 'a' using a fully connected layer and apply softmax activation\n",
    "        a = torch.softmax(self.fc(m), dim=1)\n",
    "        \n",
    "        # Weighted sum of feature maps from convolutional layers\n",
    "        x_prime = sum(a[:, i].view(-1, 1, 1, 1) * conv(x) for i, conv in enumerate(self.conv_layers))\n",
    "        \n",
    "        return x_prime\n",
    "\n",
    "\n",
    "class OutputBlock(nn.Module):\n",
    "    def __init__(self, in_channels, num_classes, num_fc_layers=2, activation=nn.ReLU()):\n",
    "        super(OutputBlock, self).__init__()\n",
    "        \n",
    "        # Initialize a ModuleList to store fully connected layers\n",
    "        self.fc_layers = nn.ModuleList([nn.Linear(in_channels, in_channels) for _ in range(num_fc_layers - 1)])\n",
    "        \n",
    "        # Add a final fully connected layer to map to num_classes\n",
    "        self.fc_layers.append(nn.Linear(in_channels, num_classes))\n",
    "        \n",
    "        # Activation function for fully connected layers\n",
    "        self.activation = activation\n",
    "\n",
    "    def forward(self, x):\n",
    "        # Compute mean separately for each color channel\n",
    "        m = x.mean([2, 3])\n",
    "        \n",
    "        # Pass through fully connected layers with ReLU activation\n",
    "        for fc in self.fc_layers[:-1]:\n",
    "            m = self.activation(fc(m))\n",
    "        \n",
    "        # Final fully connected layer to get the output logits\n",
    "        o = self.fc_layers[-1](m)\n",
    "        \n",
    "        return o\n",
    "\n",
    "\n",
    "class Basic_Model(nn.Module):\n",
    "    def __init__(self, input_channels, hidden_units, output_shape, num_blocks, num_conv_layers, num_fc_layers):\n",
    "        super(Basic_Model, self).__init__()\n",
    "        \n",
    "        # Number of intermediate blocks in the model\n",
    "        self.num_blocks = num_blocks\n",
    "        \n",
    "        # First intermediate block with input_channels to hidden_units\n",
    "        self.conv_block_1 = IntermediateBlock(input_channels, hidden_units, num_conv_layers)\n",
    "        \n",
    "        # Additional intermediate blocks\n",
    "        self.intermediate_blocks = nn.ModuleList([\n",
    "            IntermediateBlock(hidden_units, hidden_units, num_conv_layers) for _ in range(num_blocks - 1)\n",
    "        ])\n",
    "        \n",
    "        # Output block\n",
    "        self.output_block = OutputBlock(hidden_units, output_shape, num_fc_layers=num_fc_layers)\n",
    "\n",
    "    def forward(self, x):\n",
    "        # Pass through the first convolutional block\n",
    "        x = self.conv_block_1(x)\n",
    "        \n",
    "        # Pass through additional intermediate blocks\n",
    "        for block in self.intermediate_blocks:\n",
    "            x = block(x)\n",
    "        \n",
    "        # Pass through the output block\n",
    "        x = self.output_block(x)\n",
    "        \n",
    "        return x\n"
   ]
  },
  {
   "cell_type": "code",
   "execution_count": 39,
   "metadata": {},
   "outputs": [
    {
     "name": "stdout",
     "output_type": "stream",
     "text": [
      "Basic_Model(\n",
      "  (conv_block_1): IntermediateBlock(\n",
      "    (conv_layers): ModuleList(\n",
      "      (0-3): 4 x Sequential(\n",
      "        (0): Conv2d(3, 10, kernel_size=(3, 3), stride=(1, 1), padding=(1, 1))\n",
      "        (1): BatchNorm2d(10, eps=1e-05, momentum=0.1, affine=True, track_running_stats=True)\n",
      "        (2): ReLU()\n",
      "      )\n",
      "    )\n",
      "    (fc): Linear(in_features=3, out_features=4, bias=True)\n",
      "  )\n",
      "  (intermediate_blocks): ModuleList(\n",
      "    (0-2): 3 x IntermediateBlock(\n",
      "      (conv_layers): ModuleList(\n",
      "        (0-3): 4 x Sequential(\n",
      "          (0): Conv2d(10, 10, kernel_size=(3, 3), stride=(1, 1), padding=(1, 1))\n",
      "          (1): BatchNorm2d(10, eps=1e-05, momentum=0.1, affine=True, track_running_stats=True)\n",
      "          (2): ReLU()\n",
      "        )\n",
      "      )\n",
      "      (fc): Linear(in_features=10, out_features=4, bias=True)\n",
      "    )\n",
      "  )\n",
      "  (output_block): OutputBlock(\n",
      "    (fc_layers): ModuleList(\n",
      "      (0-1): 2 x Linear(in_features=10, out_features=10, bias=True)\n",
      "    )\n",
      "    (activation): ReLU()\n",
      "  )\n",
      ")\n"
     ]
    }
   ],
   "source": [
    "# Initialize the Advanced_Model with the specified parameters\n",
    "input_channels = 3  # CIFAR-10 images are RGB, thus have 3 channels\n",
    "hidden_units = 10  # Example value, adjust based on your requirements\n",
    "output_shape = 10  # CIFAR-10 has 10 classes\n",
    "num_blocks = 4  # Number of intermediate blocks in the network\n",
    "num_conv_layers = 4  # Number of convolutional layers per intermediate block\n",
    "num_fc_layers = 2  # Number of fully connected layers per required in the output classifier block\n",
    "\n",
    "# Instantiate the model\n",
    "model = Basic_Model(\n",
    "    input_channels=input_channels,\n",
    "    hidden_units=hidden_units,\n",
    "    output_shape=output_shape,\n",
    "    num_blocks=num_blocks,\n",
    "    num_conv_layers=num_conv_layers,\n",
    "    num_fc_layers=num_fc_layers\n",
    ").to(device)  # Move the model to the appropriate device (CPU or GPU)\n",
    "\n",
    "print(model)"
   ]
  },
  {
   "cell_type": "markdown",
   "metadata": {},
   "source": [
    "## Task 3: Choosing the Loss Function and Optimiser (5%)"
   ]
  },
  {
   "cell_type": "markdown",
   "metadata": {},
   "source": [
    "#### Cross Entropy Loss\n",
    "\n",
    "Cross-entropy loss function has actually been designed for multi-class classification problems. We make use of cross-entropy loss in our model training since it considers the probabilities through which our model predicts for each class. It penalizes the model more heavily for assigning low probabilities to the correct class, and less heavily for assigning high probabilities to incorrect classes.\n",
    "\n",
    "\n",
    "**Reference:**\n",
    "* https://towardsdatascience.com/cross-entropy-loss-function-f38c4ec8643e\n",
    "* https://encord.com/blog/an-introduction-to-cross-entropy-loss-functions/\n",
    "\n",
    "\n"
   ]
  },
  {
   "cell_type": "code",
   "execution_count": 40,
   "metadata": {},
   "outputs": [],
   "source": [
    "# Loss function\n",
    "loss_fn = nn.CrossEntropyLoss()"
   ]
  },
  {
   "cell_type": "markdown",
   "metadata": {},
   "source": [
    "#### Adam W Optimizer"
   ]
  },
  {
   "cell_type": "markdown",
   "metadata": {},
   "source": [
    "I used the AdamW optimizer because it deals better with weight decay and, hence, generalization of the model.This makes sure the weight decay becomes a true form of regularization, applied directly to the parameters independent of the adaptive learning rates.\n",
    "\n",
    "It is also one of the regularization technique that helps to prevent overfitting. In our multi-classification, overfitting can occur when the model learns the training data too well and fails to generalize to unseen data. Therefore, Weight decay has helped to prevent overfitting by forcing the model to have smaller weight.\n",
    "\n",
    "I have tried other optimizers like SDG and Adam however, AdamW has shown better performance.\n",
    "\n",
    "Reference: \n",
    "- https://www.analyticsvidhya.com/blog/2023/12/adam-optimizer/\n",
    "- https://towardsdatascience.com/why-adamw-matters-736223f31b5d"
   ]
  },
  {
   "cell_type": "code",
   "execution_count": 41,
   "metadata": {},
   "outputs": [],
   "source": [
    "# Optimizer\n",
    "adamw_optimizer = torch.optim.AdamW(\n",
    "    params=model.parameters(), lr=ADAMW_LEARNING_RATE, weight_decay=ADAMW_WEIGHT_DECAY\n",
    ")"
   ]
  },
  {
   "cell_type": "markdown",
   "metadata": {},
   "source": [
    "## Task 4: Training and Testing the Model (30%)"
   ]
  },
  {
   "cell_type": "markdown",
   "metadata": {},
   "source": [
    "#### Defining Training and Testing Functions"
   ]
  },
  {
   "cell_type": "code",
   "execution_count": 42,
   "metadata": {},
   "outputs": [],
   "source": [
    "def accuracy_fn(y_true, y_pred):\n",
    "    \"\"\"\n",
    "    Calculate the accuracy of model predictions.\n",
    "\n",
    "    Args:\n",
    "        y_true (torch.Tensor): True labels.\n",
    "        y_pred (torch.Tensor): Predicted labels.\n",
    "\n",
    "    Returns:\n",
    "        float: Accuracy percentage.\n",
    "    \"\"\"\n",
    "    # Calculate the number of correct predictions by comparing y_true and y_pred\n",
    "    correct = torch.eq(y_true, y_pred).sum().item()\n",
    "\n",
    "    # Calculate accuracy as the ratio of correct predictions to total predictions\n",
    "    acc = (correct / len(y_pred)) * 100\n",
    "\n",
    "    return acc"
   ]
  },
  {
   "cell_type": "code",
   "execution_count": 43,
   "metadata": {},
   "outputs": [],
   "source": [
    "def training_step(model,\n",
    "               data_loader,\n",
    "               loss_fn,\n",
    "               optimizer,\n",
    "               accuracy_fn,\n",
    "               device):\n",
    "    model.to(device)  # Move model to the appropriate device just once\n",
    "    model.train()  # Set the model to training mode\n",
    "    train_loss, train_acc = 0, 0\n",
    "\n",
    "    for X, y in data_loader:\n",
    "        X, y = X.to(device), y.to(device)  # Send data to GPU/CPU\n",
    "\n",
    "        # Forward pass\n",
    "        y_pred = model(X)\n",
    "\n",
    "        # Calculate the loss\n",
    "        loss = loss_fn(y_pred, y)\n",
    "        train_loss += loss.item()  # Use .item() to convert loss to a Python number\n",
    "        train_acc += accuracy_fn(y_true=y, y_pred=y_pred.argmax(dim=1))\n",
    "\n",
    "        # Zero the gradients before running the backward pass\n",
    "        adamw_optimizer.zero_grad()\n",
    "\n",
    "        # Backward pass\n",
    "        loss.backward()\n",
    "\n",
    "        # Update weights\n",
    "        adamw_optimizer.step()\n",
    "\n",
    "    # Calculate average loss and accuracy\n",
    "    train_loss /= len(data_loader)\n",
    "    train_acc /= len(data_loader)\n",
    "    print(f\"Train loss: {train_loss:.5f} | Train accuracy: {train_acc:.2f}%\")\n",
    "    return train_loss, train_acc\n",
    "\n",
    "def testing_step(data_loader,\n",
    "              model,\n",
    "              loss_fn,\n",
    "              accuracy_fn,\n",
    "              device):\n",
    "    model.to(device)  # Ensure model is on the right device\n",
    "    model.eval()  # Set the model to evaluation mode\n",
    "    test_loss, test_acc = 0, 0\n",
    "\n",
    "    with torch.inference_mode():  # Context manager for inference mode\n",
    "        for X, y in data_loader:\n",
    "            X, y = X.to(device), y.to(device)\n",
    "\n",
    "            # Forward pass\n",
    "            test_pred = model(X)\n",
    "\n",
    "            # Calculate loss and accuracy\n",
    "            test_loss += loss_fn(test_pred, y).item()  # Detach and convert loss\n",
    "            test_acc += accuracy_fn(y_true=y, y_pred=test_pred.argmax(dim=1))\n",
    "\n",
    "    # Calculate average loss and accuracy\n",
    "    test_loss /= len(data_loader)\n",
    "    test_acc /= len(data_loader)\n",
    "    print(f\"Test loss: {test_loss:.5f} | Test accuracy: {test_acc:.2f}%\\n\")\n",
    "    return test_loss, test_acc"
   ]
  },
  {
   "cell_type": "code",
   "execution_count": 44,
   "metadata": {
    "scrolled": true
   },
   "outputs": [
    {
     "name": "stderr",
     "output_type": "stream",
     "text": [
      "Epochs Completed:   0%|          | 0/35 [00:00<?, ?it/s]"
     ]
    },
    {
     "name": "stdout",
     "output_type": "stream",
     "text": [
      "Epoch: 1\n",
      "---------\n"
     ]
    },
    {
     "name": "stderr",
     "output_type": "stream",
     "text": [
      "/opt/conda/lib/python3.11/site-packages/torch/nn/modules/conv.py:456: UserWarning: Applied workaround for CuDNN issue, install nvrtc.so (Triggered internally at /opt/conda/conda-bld/pytorch_1702400440653/work/aten/src/ATen/native/cudnn/Conv_v8.cpp:80.)\n",
      "  return F.conv2d(input, weight, bias, self.stride,\n"
     ]
    },
    {
     "name": "stdout",
     "output_type": "stream",
     "text": [
      "Train loss: 1.91889 | Train accuracy: 24.92%\n"
     ]
    },
    {
     "name": "stderr",
     "output_type": "stream",
     "text": [
      "Epochs Completed:   3%|▎         | 1/35 [00:38<22:00, 38.85s/it]"
     ]
    },
    {
     "name": "stdout",
     "output_type": "stream",
     "text": [
      "Test loss: 1.76002 | Test accuracy: 30.89%\n",
      "\n",
      "Epoch: 2\n",
      "---------\n",
      "Train loss: 1.62011 | Train accuracy: 37.20%\n"
     ]
    },
    {
     "name": "stderr",
     "output_type": "stream",
     "text": [
      "Epochs Completed:   6%|▌         | 2/35 [01:11<19:22, 35.21s/it]"
     ]
    },
    {
     "name": "stdout",
     "output_type": "stream",
     "text": [
      "Test loss: 1.62263 | Test accuracy: 36.97%\n",
      "\n",
      "Epoch: 3\n",
      "---------\n",
      "Train loss: 1.49005 | Train accuracy: 43.13%\n"
     ]
    },
    {
     "name": "stderr",
     "output_type": "stream",
     "text": [
      "Epochs Completed:   9%|▊         | 3/35 [01:49<19:22, 36.34s/it]"
     ]
    },
    {
     "name": "stdout",
     "output_type": "stream",
     "text": [
      "Test loss: 1.48802 | Test accuracy: 43.83%\n",
      "\n",
      "Epoch: 4\n",
      "---------\n",
      "Train loss: 1.39327 | Train accuracy: 47.37%\n"
     ]
    },
    {
     "name": "stderr",
     "output_type": "stream",
     "text": [
      "Epochs Completed:  11%|█▏        | 4/35 [02:29<19:29, 37.72s/it]"
     ]
    },
    {
     "name": "stdout",
     "output_type": "stream",
     "text": [
      "Test loss: 1.41247 | Test accuracy: 45.90%\n",
      "\n",
      "Epoch: 5\n",
      "---------\n",
      "Train loss: 1.33398 | Train accuracy: 49.95%\n"
     ]
    },
    {
     "name": "stderr",
     "output_type": "stream",
     "text": [
      "Epochs Completed:  14%|█▍        | 5/35 [03:08<19:14, 38.50s/it]"
     ]
    },
    {
     "name": "stdout",
     "output_type": "stream",
     "text": [
      "Test loss: 1.55387 | Test accuracy: 44.39%\n",
      "\n",
      "Epoch: 6\n",
      "---------\n",
      "Train loss: 1.29527 | Train accuracy: 51.90%\n"
     ]
    },
    {
     "name": "stderr",
     "output_type": "stream",
     "text": [
      "Epochs Completed:  17%|█▋        | 6/35 [03:46<18:27, 38.20s/it]"
     ]
    },
    {
     "name": "stdout",
     "output_type": "stream",
     "text": [
      "Test loss: 1.39494 | Test accuracy: 49.02%\n",
      "\n",
      "Epoch: 7\n",
      "---------\n",
      "Train loss: 1.26017 | Train accuracy: 53.33%\n"
     ]
    },
    {
     "name": "stderr",
     "output_type": "stream",
     "text": [
      "Epochs Completed:  20%|██        | 7/35 [04:23<17:42, 37.93s/it]"
     ]
    },
    {
     "name": "stdout",
     "output_type": "stream",
     "text": [
      "Test loss: 1.86845 | Test accuracy: 39.84%\n",
      "\n",
      "Epoch: 8\n",
      "---------\n",
      "Train loss: 1.22946 | Train accuracy: 54.70%\n"
     ]
    },
    {
     "name": "stderr",
     "output_type": "stream",
     "text": [
      "Epochs Completed:  23%|██▎       | 8/35 [05:01<17:02, 37.87s/it]"
     ]
    },
    {
     "name": "stdout",
     "output_type": "stream",
     "text": [
      "Test loss: 1.32998 | Test accuracy: 51.64%\n",
      "\n",
      "Epoch: 9\n",
      "---------\n",
      "Train loss: 1.21217 | Train accuracy: 55.63%\n"
     ]
    },
    {
     "name": "stderr",
     "output_type": "stream",
     "text": [
      "Epochs Completed:  26%|██▌       | 9/35 [05:38<16:17, 37.59s/it]"
     ]
    },
    {
     "name": "stdout",
     "output_type": "stream",
     "text": [
      "Test loss: 1.32532 | Test accuracy: 50.02%\n",
      "\n",
      "Epoch: 10\n",
      "---------\n",
      "Train loss: 1.19094 | Train accuracy: 56.34%\n"
     ]
    },
    {
     "name": "stderr",
     "output_type": "stream",
     "text": [
      "Epochs Completed:  29%|██▊       | 10/35 [06:15<15:33, 37.33s/it]"
     ]
    },
    {
     "name": "stdout",
     "output_type": "stream",
     "text": [
      "Test loss: 1.23218 | Test accuracy: 53.91%\n",
      "\n",
      "Epoch: 11\n",
      "---------\n",
      "Train loss: 1.16901 | Train accuracy: 57.19%\n"
     ]
    },
    {
     "name": "stderr",
     "output_type": "stream",
     "text": [
      "Epochs Completed:  31%|███▏      | 11/35 [06:52<14:54, 37.28s/it]"
     ]
    },
    {
     "name": "stdout",
     "output_type": "stream",
     "text": [
      "Test loss: 1.19184 | Test accuracy: 56.88%\n",
      "\n",
      "Epoch: 12\n",
      "---------\n",
      "Train loss: 1.15294 | Train accuracy: 58.19%\n"
     ]
    },
    {
     "name": "stderr",
     "output_type": "stream",
     "text": [
      "Epochs Completed:  34%|███▍      | 12/35 [07:24<13:37, 35.55s/it]"
     ]
    },
    {
     "name": "stdout",
     "output_type": "stream",
     "text": [
      "Test loss: 1.42104 | Test accuracy: 48.94%\n",
      "\n",
      "Epoch: 13\n",
      "---------\n",
      "Train loss: 1.13515 | Train accuracy: 58.91%\n"
     ]
    },
    {
     "name": "stderr",
     "output_type": "stream",
     "text": [
      "Epochs Completed:  37%|███▋      | 13/35 [07:54<12:30, 34.10s/it]"
     ]
    },
    {
     "name": "stdout",
     "output_type": "stream",
     "text": [
      "Test loss: 1.27001 | Test accuracy: 53.58%\n",
      "\n",
      "Epoch: 14\n",
      "---------\n",
      "Train loss: 1.12336 | Train accuracy: 59.12%\n"
     ]
    },
    {
     "name": "stderr",
     "output_type": "stream",
     "text": [
      "Epochs Completed:  40%|████      | 14/35 [08:25<11:36, 33.17s/it]"
     ]
    },
    {
     "name": "stdout",
     "output_type": "stream",
     "text": [
      "Test loss: 1.17411 | Test accuracy: 57.54%\n",
      "\n",
      "Epoch: 15\n",
      "---------\n",
      "Train loss: 1.10418 | Train accuracy: 59.90%\n"
     ]
    },
    {
     "name": "stderr",
     "output_type": "stream",
     "text": [
      "Epochs Completed:  43%|████▎     | 15/35 [08:55<10:43, 32.18s/it]"
     ]
    },
    {
     "name": "stdout",
     "output_type": "stream",
     "text": [
      "Test loss: 1.16493 | Test accuracy: 57.41%\n",
      "\n",
      "Epoch: 16\n",
      "---------\n",
      "Train loss: 1.09374 | Train accuracy: 60.41%\n"
     ]
    },
    {
     "name": "stderr",
     "output_type": "stream",
     "text": [
      "Epochs Completed:  46%|████▌     | 16/35 [09:25<09:58, 31.50s/it]"
     ]
    },
    {
     "name": "stdout",
     "output_type": "stream",
     "text": [
      "Test loss: 1.34114 | Test accuracy: 53.66%\n",
      "\n",
      "Epoch: 17\n",
      "---------\n",
      "Train loss: 1.08200 | Train accuracy: 60.63%\n"
     ]
    },
    {
     "name": "stderr",
     "output_type": "stream",
     "text": [
      "Epochs Completed:  49%|████▊     | 17/35 [09:52<09:02, 30.12s/it]"
     ]
    },
    {
     "name": "stdout",
     "output_type": "stream",
     "text": [
      "Test loss: 1.33638 | Test accuracy: 51.91%\n",
      "\n",
      "Epoch: 18\n",
      "---------\n",
      "Train loss: 1.07330 | Train accuracy: 61.09%\n"
     ]
    },
    {
     "name": "stderr",
     "output_type": "stream",
     "text": [
      "Epochs Completed:  51%|█████▏    | 18/35 [10:23<08:33, 30.20s/it]"
     ]
    },
    {
     "name": "stdout",
     "output_type": "stream",
     "text": [
      "Test loss: 1.43543 | Test accuracy: 50.66%\n",
      "\n",
      "Epoch: 19\n",
      "---------\n",
      "Train loss: 1.06212 | Train accuracy: 61.70%\n"
     ]
    },
    {
     "name": "stderr",
     "output_type": "stream",
     "text": [
      "Epochs Completed:  54%|█████▍    | 19/35 [10:52<07:59, 29.96s/it]"
     ]
    },
    {
     "name": "stdout",
     "output_type": "stream",
     "text": [
      "Test loss: 1.20393 | Test accuracy: 56.54%\n",
      "\n",
      "Epoch: 20\n",
      "---------\n",
      "Train loss: 1.05360 | Train accuracy: 61.83%\n"
     ]
    },
    {
     "name": "stderr",
     "output_type": "stream",
     "text": [
      "Epochs Completed:  57%|█████▋    | 20/35 [11:21<07:26, 29.79s/it]"
     ]
    },
    {
     "name": "stdout",
     "output_type": "stream",
     "text": [
      "Test loss: 1.18712 | Test accuracy: 57.63%\n",
      "\n",
      "Epoch: 21\n",
      "---------\n",
      "Train loss: 1.04449 | Train accuracy: 62.09%\n"
     ]
    },
    {
     "name": "stderr",
     "output_type": "stream",
     "text": [
      "Epochs Completed:  60%|██████    | 21/35 [11:51<06:58, 29.89s/it]"
     ]
    },
    {
     "name": "stdout",
     "output_type": "stream",
     "text": [
      "Test loss: 1.27197 | Test accuracy: 55.30%\n",
      "\n",
      "Epoch: 22\n",
      "---------\n",
      "Train loss: 1.03317 | Train accuracy: 62.53%\n"
     ]
    },
    {
     "name": "stderr",
     "output_type": "stream",
     "text": [
      "Epochs Completed:  63%|██████▎   | 22/35 [12:22<06:30, 30.05s/it]"
     ]
    },
    {
     "name": "stdout",
     "output_type": "stream",
     "text": [
      "Test loss: 1.16436 | Test accuracy: 58.09%\n",
      "\n",
      "Epoch: 23\n",
      "---------\n",
      "Train loss: 1.01876 | Train accuracy: 63.26%\n"
     ]
    },
    {
     "name": "stderr",
     "output_type": "stream",
     "text": [
      "Epochs Completed:  66%|██████▌   | 23/35 [12:52<05:59, 29.99s/it]"
     ]
    },
    {
     "name": "stdout",
     "output_type": "stream",
     "text": [
      "Test loss: 1.21994 | Test accuracy: 57.58%\n",
      "\n",
      "Epoch: 24\n",
      "---------\n",
      "Train loss: 1.01391 | Train accuracy: 63.32%\n"
     ]
    },
    {
     "name": "stderr",
     "output_type": "stream",
     "text": [
      "Epochs Completed:  69%|██████▊   | 24/35 [13:22<05:29, 29.96s/it]"
     ]
    },
    {
     "name": "stdout",
     "output_type": "stream",
     "text": [
      "Test loss: 1.29475 | Test accuracy: 54.98%\n",
      "\n",
      "Epoch: 25\n",
      "---------\n",
      "Train loss: 1.00657 | Train accuracy: 63.47%\n"
     ]
    },
    {
     "name": "stderr",
     "output_type": "stream",
     "text": [
      "Epochs Completed:  71%|███████▏  | 25/35 [13:52<04:59, 29.95s/it]"
     ]
    },
    {
     "name": "stdout",
     "output_type": "stream",
     "text": [
      "Test loss: 1.06461 | Test accuracy: 61.82%\n",
      "\n",
      "Epoch: 26\n",
      "---------\n",
      "Train loss: 0.99755 | Train accuracy: 64.03%\n"
     ]
    },
    {
     "name": "stderr",
     "output_type": "stream",
     "text": [
      "Epochs Completed:  74%|███████▍  | 26/35 [14:22<04:29, 29.96s/it]"
     ]
    },
    {
     "name": "stdout",
     "output_type": "stream",
     "text": [
      "Test loss: 1.32894 | Test accuracy: 56.59%\n",
      "\n",
      "Epoch: 27\n",
      "---------\n",
      "Train loss: 0.99417 | Train accuracy: 64.14%\n"
     ]
    },
    {
     "name": "stderr",
     "output_type": "stream",
     "text": [
      "Epochs Completed:  77%|███████▋  | 27/35 [14:51<03:58, 29.82s/it]"
     ]
    },
    {
     "name": "stdout",
     "output_type": "stream",
     "text": [
      "Test loss: 1.44589 | Test accuracy: 49.54%\n",
      "\n",
      "Epoch: 28\n",
      "---------\n",
      "Train loss: 0.98646 | Train accuracy: 64.39%\n"
     ]
    },
    {
     "name": "stderr",
     "output_type": "stream",
     "text": [
      "Epochs Completed:  80%|████████  | 28/35 [15:20<03:27, 29.67s/it]"
     ]
    },
    {
     "name": "stdout",
     "output_type": "stream",
     "text": [
      "Test loss: 1.47762 | Test accuracy: 50.52%\n",
      "\n",
      "Epoch: 29\n",
      "---------\n",
      "Train loss: 0.97962 | Train accuracy: 64.62%\n"
     ]
    },
    {
     "name": "stderr",
     "output_type": "stream",
     "text": [
      "Epochs Completed:  83%|████████▎ | 29/35 [15:49<02:56, 29.45s/it]"
     ]
    },
    {
     "name": "stdout",
     "output_type": "stream",
     "text": [
      "Test loss: 1.19192 | Test accuracy: 58.33%\n",
      "\n",
      "Epoch: 30\n",
      "---------\n",
      "Train loss: 0.97664 | Train accuracy: 64.72%\n"
     ]
    },
    {
     "name": "stderr",
     "output_type": "stream",
     "text": [
      "Epochs Completed:  86%|████████▌ | 30/35 [16:18<02:26, 29.35s/it]"
     ]
    },
    {
     "name": "stdout",
     "output_type": "stream",
     "text": [
      "Test loss: 1.39963 | Test accuracy: 54.93%\n",
      "\n",
      "Epoch: 31\n",
      "---------\n",
      "Train loss: 0.96846 | Train accuracy: 65.07%\n"
     ]
    },
    {
     "name": "stderr",
     "output_type": "stream",
     "text": [
      "Epochs Completed:  89%|████████▊ | 31/35 [16:48<01:57, 29.32s/it]"
     ]
    },
    {
     "name": "stdout",
     "output_type": "stream",
     "text": [
      "Test loss: 1.01474 | Test accuracy: 63.12%\n",
      "\n",
      "Epoch: 32\n",
      "---------\n",
      "Train loss: 0.96461 | Train accuracy: 65.02%\n"
     ]
    },
    {
     "name": "stderr",
     "output_type": "stream",
     "text": [
      "Epochs Completed:  91%|█████████▏| 32/35 [17:17<01:27, 29.28s/it]"
     ]
    },
    {
     "name": "stdout",
     "output_type": "stream",
     "text": [
      "Test loss: 1.01718 | Test accuracy: 63.69%\n",
      "\n",
      "Epoch: 33\n",
      "---------\n",
      "Train loss: 0.96011 | Train accuracy: 65.32%\n"
     ]
    },
    {
     "name": "stderr",
     "output_type": "stream",
     "text": [
      "Epochs Completed:  94%|█████████▍| 33/35 [17:46<00:58, 29.21s/it]"
     ]
    },
    {
     "name": "stdout",
     "output_type": "stream",
     "text": [
      "Test loss: 1.36479 | Test accuracy: 54.99%\n",
      "\n",
      "Epoch: 34\n",
      "---------\n",
      "Train loss: 0.95429 | Train accuracy: 65.65%\n"
     ]
    },
    {
     "name": "stderr",
     "output_type": "stream",
     "text": [
      "Epochs Completed:  97%|█████████▋| 34/35 [18:15<00:29, 29.10s/it]"
     ]
    },
    {
     "name": "stdout",
     "output_type": "stream",
     "text": [
      "Test loss: 1.31075 | Test accuracy: 55.18%\n",
      "\n",
      "Epoch: 35\n",
      "---------\n",
      "Train loss: 0.94936 | Train accuracy: 65.76%\n"
     ]
    },
    {
     "name": "stderr",
     "output_type": "stream",
     "text": [
      "Epochs Completed: 100%|██████████| 35/35 [18:44<00:00, 32.13s/it]"
     ]
    },
    {
     "name": "stdout",
     "output_type": "stream",
     "text": [
      "Test loss: 1.01544 | Test accuracy: 64.10%\n",
      "\n"
     ]
    },
    {
     "name": "stderr",
     "output_type": "stream",
     "text": [
      "\n"
     ]
    }
   ],
   "source": [
    "from tqdm import tqdm  # Import tqdm library for progress tracking\n",
    "\n",
    "torch.manual_seed(random_seed) # Setting random seed for reproducibility\n",
    "\n",
    "epoch_train_loss = []\n",
    "epoch_train_accuracy = []\n",
    "epoch_test_loss = []\n",
    "epoch_test_accuracy = []\n",
    "\n",
    "for epoch in tqdm(range(EPOCHS), desc=\"Epochs Completed\"):  # Iterate over epochs with tqdm progress bar\n",
    "    print(f\"Epoch: {epoch + 1}\\n---------\")  # Print current epoch number\n",
    "\n",
    "    # Perform one training step on the training data\n",
    "    train_loss, train_accuracy = training_step(data_loader=train_dataloader,\n",
    "                   model=model,\n",
    "                   loss_fn=loss_fn,\n",
    "                   optimizer=adamw_optimizer,\n",
    "                   accuracy_fn=accuracy_fn,\n",
    "                   device=device)\n",
    "\n",
    "    # Evaluate the model's performance on the test dataset\n",
    "    test_loss, test_accuracy = testing_step(data_loader=test_dataloader,\n",
    "                 model=model,\n",
    "                 loss_fn=loss_fn,\n",
    "                 accuracy_fn=accuracy_fn,\n",
    "                 device=device)\n",
    "\n",
    "    # Storing metrics to lists for later plotting\n",
    "    epoch_train_loss.append(train_loss)\n",
    "    epoch_train_accuracy.append(train_accuracy)\n",
    "    epoch_test_loss.append(test_loss)\n",
    "    epoch_test_accuracy.append(test_accuracy)\n"
   ]
  },
  {
   "cell_type": "markdown",
   "metadata": {},
   "source": [
    "#### Loss and Accuracy Curves for Training and Test Dataset"
   ]
  },
  {
   "cell_type": "code",
   "execution_count": 46,
   "metadata": {},
   "outputs": [
    {
     "data": {
      "image/png": "[encoded data removed]",
      "text/plain": [
       "<Figure size 1500x500 with 2 Axes>"
      ]
     },
     "metadata": {},
     "output_type": "display_data"
    }
   ],
   "source": [
    "sns.set_style(\"whitegrid\")\n",
    "sns.set_palette(\"colorblind\")\n",
    "\n",
    "fig, axes = plt.subplots(nrows=1, ncols=2, figsize=(15,5))\n",
    "\n",
    "sns.lineplot(ax=axes[0], x=range(EPOCHS), y=epoch_train_loss, label=\"Train\")\n",
    "sns.lineplot(ax=axes[0], x=range(EPOCHS), y=epoch_test_loss, label=\"Test\")\n",
    "axes[0].set_xlabel(\"Epoch\")\n",
    "axes[0].set_ylabel(\"Loss\")\n",
    "axes[0].legend()\n",
    "axes[0].set_title(\"Baseline Model: Loss vs Epoch\")\n",
    "\n",
    "sns.lineplot(ax=axes[1], x=range(EPOCHS), y=epoch_train_accuracy, label=\"Train\")\n",
    "sns.lineplot(ax=axes[1], x=range(EPOCHS), y=epoch_test_accuracy, label=\"Test\")\n",
    "axes[1].set_xlabel(\"Epoch\")\n",
    "axes[1].set_ylabel(\"Accuracy\")\n",
    "axes[1].legend()\n",
    "axes[1].set_title(\"Baseline Model: Accuracy vs Epoch\")\n",
    "plt.show()\n"
   ]
  },
  {
   "cell_type": "markdown",
   "metadata": {},
   "source": [
    "# Advanced Model Architecture"
   ]
  },
  {
   "cell_type": "markdown",
   "metadata": {},
   "source": [
    "## Task 2: Implementation of Neural Network Architecture (40%)"
   ]
  },
  {
   "cell_type": "markdown",
   "metadata": {},
   "source": [
    "### Advanced Model : Intermediate Block Class"
   ]
  },
  {
   "cell_type": "markdown",
   "metadata": {},
   "source": [
    "**The Intermediate Block class defines a module for a block with multiple convolutional layers and adaptive pooling.**\n",
    "\n",
    "* The block is initialized with parameters such as input and output channels, number of layers, kernel size, activation function, and dropout rate.\n",
    "\n",
    "* A series of convolutional layers with batch normalization, activation function, and max pooling are created using nn.Sequential and stored in a ModuleList.\n",
    "\n",
    "* The forward method defines the forward pass of the block:\n",
    "  * Channel-wise averages of the input feature maps are computed using adaptive average pooling.\n",
    "  * Coefficients 'a' are computed using a fully connected layer and softmax activation.\n",
    "  * Each input feature map is weighted with its corresponding coefficient 'a' and combined to form the output feature map x_prime."
   ]
  },
  {
   "cell_type": "code",
   "execution_count": 48,
   "metadata": {},
   "outputs": [],
   "source": [
    "class IntermediateBlock(nn.Module):\n",
    "    def __init__(self, in_channels, out_channels, num_layers, kernel_size=3):\n",
    "        super(IntermediateBlock, self).__init__()\n",
    "        self.adaptive_avg_pool = nn.AdaptiveAvgPool2d(1)\n",
    "        self.conv_layers = nn.ModuleList([])\n",
    "        self.activation = nn.LeakyReLU(inplace=True)\n",
    "        \n",
    "        for _ in range(num_layers):\n",
    "            self.conv_layers.append(nn.Sequential(\n",
    "                nn.Conv2d(in_channels, out_channels, kernel_size=kernel_size, padding=1, stride=1),\n",
    "                nn.BatchNorm2d(out_channels),\n",
    "                nn.LeakyReLU(inplace=True),\n",
    "                nn.MaxPool2d(\n",
    "                        kernel_size=2, stride=2\n",
    "                    ),\n",
    "                # nn.Dropout(dropout_rate) \n",
    "            ))\n",
    "        self.fc = nn.Linear(in_channels, num_layers)\n",
    "\n",
    "    def forward(self, x):      \n",
    "        # Compute mean separately for each color channel\n",
    "        m = self.adaptive_avg_pool(x).view(x.size(0), -1) \n",
    "        \n",
    "        a = torch.softmax(self.fc(m), dim=1)  # Calculate 'a' using a fully connected layer\n",
    "        # print(f\"Shape of a vector {a.shape}\")\n",
    "\n",
    "        x_prime = sum(a[:, i].view(-1, 1, 1, 1) * conv(x) for i, conv in enumerate(self.conv_layers))\n",
    "        # print(f\"Shape of x_prime vector {x_prime.shape}\")\n",
    "        \n",
    "        return x_prime"
   ]
  },
  {
   "cell_type": "markdown",
   "metadata": {},
   "source": [
    "### Advanced Model: Output Block"
   ]
  },
  {
   "cell_type": "markdown",
   "metadata": {},
   "source": [
    "**This block generates the final output of the neural network with the class-predictions for the input image.**\n",
    "\n",
    "* It takes as input the output generated by the Intermediate Blocks of the neural network.\n",
    "* Computes channel-wise averages of the input features using adaptive average pooling.\n",
    "* Afterwards, the averages per channel-wise pass are done, and fully connected layers are applied to every layer with softmax activation in the end.\n",
    "* The final fully connected layer maps the feature vectors to the number of classes, producing output logits.\n",
    "* The output logits represent the model's probabilities for each class."
   ]
  },
  {
   "cell_type": "code",
   "execution_count": 49,
   "metadata": {
    "id": "nVzSKXFhpew-"
   },
   "outputs": [],
   "source": [
    "class OutputBlock(nn.Module):\n",
    "    def __init__(self, in_channels, num_classes, num_fc_layers=1, activation=nn.LeakyReLU()):\n",
    "        super(OutputBlock, self).__init__()\n",
    "        self.fc_layers = nn.ModuleList([nn.Linear(in_channels, in_channels) for _ in range(num_fc_layers - 1)])\n",
    "        self.fc_layers.append(nn.Linear(in_channels, num_classes))  # Final layer to num_classes\n",
    "        self.activation = activation\n",
    "\n",
    "    def forward(self, x):\n",
    "        m = x.mean([2, 3])  # Compute mean separately for each color channel\n",
    "        for fc in self.fc_layers[:-1]:\n",
    "            m = self.activation(fc(m))\n",
    "        o = self.fc_layers[-1](m)\n",
    "        # print(o.shape)\n",
    "        return o"
   ]
  },
  {
   "cell_type": "markdown",
   "metadata": {},
   "source": [
    "### Advanced Model: Model Class"
   ]
  },
  {
   "cell_type": "markdown",
   "metadata": {},
   "source": [
    "**This model combines multiple intermediate blocks followed by an output block to perform image classification.**\n",
    "\n",
    "* It consists of multiple intermediate blocks, each processes features through convolutional layers.\n",
    "* The first intermediate block processes input features from input_channels to hidden_units, while additional blocks process features within the hidden units.\n",
    "* Each intermediate block utilizes the IntermediateBlock class.\n",
    "* The output block generates the final predictions, mapping the hidden unit features to the specified output shape.\n",
    "* In the forward method, input data passes through the first intermediate block, followed by additional intermediate blocks, and finally through the output block.\n",
    "* The output of the output block represents the model's predictions for the input data."
   ]
  },
  {
   "cell_type": "code",
   "execution_count": 50,
   "metadata": {},
   "outputs": [],
   "source": [
    "class Advanced_Model(nn.Module):\n",
    "    def __init__(self, input_channels, hidden_units, output_shape, num_blocks, num_conv_layers, num_fc_layers):\n",
    "        super(Advanced_Model, self).__init__()\n",
    "        self.num_blocks = num_blocks\n",
    "        # First intermediate block with input_channels to hidden_units\n",
    "        self.conv_block_1 = IntermediateBlock(input_channels, hidden_units, num_conv_layers)\n",
    "        # Additional intermediate blocks\n",
    "        self.intermediate_blocks = nn.ModuleList([\n",
    "            IntermediateBlock(hidden_units, hidden_units, num_conv_layers) for _ in range(num_blocks - 1)\n",
    "        ])\n",
    "        # Output block\n",
    "        self.output_block = OutputBlock(hidden_units, output_shape, num_fc_layers)\n",
    "\n",
    "    def forward(self, x):\n",
    "        x = self.conv_block_1(x)\n",
    "        for block in self.intermediate_blocks:\n",
    "            x = block(x)\n",
    "        x = self.output_block(x)\n",
    "        return x"
   ]
  },
  {
   "cell_type": "code",
   "execution_count": 14,
   "metadata": {
    "id": "SrQDGWaQzCmP"
   },
   "outputs": [],
   "source": [
    "# CIFAR-10 specific parameters\n",
    "input_channels = 3  # CIFAR-10 images are RGB, thus have 3 channels\n",
    "hidden_units = 512 # Example value, adjust based on your requirements\n",
    "output_shape = 10  # CIFAR-10 has 10 classes\n",
    "num_blocks = 5  # Number of intermediate blocks you want in your network\n",
    "num_conv_layers = 5  # Number of convolutional layers per intermediate block\n",
    "num_fc_layers = 4\n",
    "\n",
    "\n",
    "# Instantiate the model\n",
    "model = Advanced_Model(input_channels=input_channels,\n",
    "                hidden_units=hidden_units,\n",
    "                output_shape=output_shape,\n",
    "                num_blocks=num_blocks,\n",
    "                num_conv_layers=num_conv_layers,\n",
    "                num_fc_layers=num_fc_layers).to(device)\n",
    "\n"
   ]
  },
  {
   "cell_type": "markdown",
   "metadata": {},
   "source": [
    "## Task 3: Choosing the Loss Function and Optimiser (5%)"
   ]
  },
  {
   "cell_type": "markdown",
   "metadata": {},
   "source": [
    "#### **Cross Entropy Loss:**\n",
    "\n",
    "Cross-entropy loss function has actually been designed for multi-class classification problems. We make use of cross-entropy loss in our model training since it considers the probabilities through which our model predicts for each class. It penalizes the model more heavily for assigning low probabilities to the correct class, and less heavily for assigning high probabilities to incorrect classes.\n",
    "\n",
    "\n",
    "**Reference:**\n",
    "* https://towardsdatascience.com/cross-entropy-loss-function-f38c4ec8643e\n",
    "* https://encord.com/blog/an-introduction-to-cross-entropy-loss-functions/\n",
    "\n",
    "\n"
   ]
  },
  {
   "cell_type": "code",
   "execution_count": 51,
   "metadata": {},
   "outputs": [],
   "source": [
    "# Loss function\n",
    "loss_fn = nn.CrossEntropyLoss()"
   ]
  },
  {
   "cell_type": "markdown",
   "metadata": {},
   "source": [
    "#### Adam W Optimizer"
   ]
  },
  {
   "cell_type": "markdown",
   "metadata": {},
   "source": [
    "I used the AdamW optimizer because it deals better with weight decay and, hence, generalization of the model.This makes sure the weight decay becomes a true form of regularization, applied directly to the parameters independent of the adaptive learning rates.\n",
    "\n",
    "It is also one of the regularization technique that helps to prevent overfitting. In our multi-classification, overfitting can occur when the model learns the training data too well and fails to generalize to unseen data. Therefore, Weight decay has helped to prevent overfitting by forcing the model to have smaller weight.\n",
    "\n",
    "I have tried other optimizers like SDG and Adam however, AdamW has shown better performance.\n",
    "\n",
    "Reference: \n",
    "- https://www.analyticsvidhya.com/blog/2023/12/adam-optimizer/\n",
    "- https://towardsdatascience.com/why-adamw-matters-736223f31b5d"
   ]
  },
  {
   "cell_type": "code",
   "execution_count": 15,
   "metadata": {},
   "outputs": [],
   "source": [
    "ADAMW_LEARNING_RATE = 0.001\n",
    "ADAMW_WEIGHT_DECAY = 1e-2\n",
    "\n",
    "# Optimizer\n",
    "adamw_optimizer = torch.optim.AdamW(\n",
    "    params=model.parameters(), lr=ADAMW_LEARNING_RATE, weight_decay=ADAMW_WEIGHT_DECAY\n",
    ")"
   ]
  },
  {
   "cell_type": "markdown",
   "metadata": {},
   "source": [
    "## Task 4: Training and Testing the Model (30%)"
   ]
  },
  {
   "cell_type": "markdown",
   "metadata": {},
   "source": [
    "#### Defining Training and Testing Functions"
   ]
  },
  {
   "cell_type": "code",
   "execution_count": 16,
   "metadata": {},
   "outputs": [],
   "source": [
    "def accuracy_fn(y_true, y_pred):\n",
    "    \"\"\"\n",
    "    Calculate the accuracy of model predictions.\n",
    "\n",
    "    Args:\n",
    "        y_true (torch.Tensor): True labels.\n",
    "        y_pred (torch.Tensor): Predicted labels.\n",
    "\n",
    "    Returns:\n",
    "        float: Accuracy percentage.\n",
    "    \"\"\"\n",
    "    # Calculate the number of correct predictions by comparing y_true and y_pred\n",
    "    correct = torch.eq(y_true, y_pred).sum().item()\n",
    "\n",
    "    # Calculate accuracy as the ratio of correct predictions to total predictions\n",
    "    acc = (correct / len(y_pred)) * 100\n",
    "\n",
    "    return acc"
   ]
  },
  {
   "cell_type": "markdown",
   "metadata": {},
   "source": [
    "**Below code defines two functions, `training_step` and `testing_step`, essential for training and evaluating a neural network model.**\n",
    "\n",
    "Each function takes different parameters necessary for their respective processes and performs a series of operations to process the input data through the model, calculate loss and accuracy, and adjust the model's weights during training. \n",
    "\n",
    "The `training_step` function is responsible for adjusting the model's parameters based on the training data to minimize the loss function, while the `testing_step` function evaluates the trained model's performance in terms of loss and accuracy on unseen data. \n",
    "\n",
    "`training_step` Function:\n",
    "\n",
    "This performs a single epoch of training over the entire dataset provided by `data_loader`.\n",
    "\n",
    "**Parameters:**\n",
    "- `model`: The neural network model to be trained.\n",
    "- `data_loader`: An iterable that provides batches of data (features `X` and labels `y`).\n",
    "- `loss_fn`: The loss function used to calculate the difference between the predicted outputs and the actual labels.\n",
    "- `optimizer`: The optimizer (AdamW optimizer) used for adjusting the model's weights based on the computed gradients to minimize the loss.\n",
    "- `accuracy_fn`: A function that calculates the model's accuracy given the true labels and predictions.\n",
    "- `device`: The device (CPU or GPU) where the computations are performed.\n",
    "\n",
    "**Process:**\n",
    "1. Moves the model to the appropriate device (CPU or GPU).\n",
    "2. Sets the model to training mode to enable gradients and dropout layers.\n",
    "3. Initializes variables for accumulating total loss and accuracy.\n",
    "4. Iterates over batches of data from `data_loader`, moving each batch to the designated device.\n",
    "5. For each batch, performs a forward pass through the model to generate predictions, computes the loss using `loss_fn`, and accumulates the loss and accuracy.\n",
    "6. Resets (zeroes) the optimizer's gradients to prevent accumulation from previous iterations.\n",
    "7. Performs a backward pass to compute gradients w.r.t the loss.\n",
    "8. Updates the model's weights using the optimizer's step function.\n",
    "9. Calculates and prints the average loss and accuracy over all batches.\n",
    "\n",
    "`testing_step` Function:\n",
    "\n",
    "This evaluates the model's performance on a dataset, typically a validation or test set, provided by `data_loader`.\n",
    "\n",
    "**Parameters:**\n",
    "Similar to `training_step`, but there's no optimizer since the model is not being updated.\n",
    "\n",
    "**Process:**\n",
    "1. Moves the model to the appropriate device.\n",
    "2. Sets the model to evaluation mode to disable gradients and dropout layers for consistent predictions.\n",
    "3. Initializes variables for accumulating total loss and accuracy.\n",
    "4. Disables gradient calculations using `torch.inference_mode()` for efficiency during evaluation.\n",
    "5. Iterates over batches of data, moving each batch to the device, and performs a forward pass to generate predictions.\n",
    "6. Computes and accumulates the loss and accuracy for each batch.\n",
    "7. Calculates and prints the average loss and accuracy over all batches.\n",
    "\n"
   ]
  },
  {
   "cell_type": "code",
   "execution_count": 17,
   "metadata": {},
   "outputs": [],
   "source": [
    "def training_step(model,\n",
    "               data_loader,\n",
    "               loss_fn,\n",
    "               optimizer,\n",
    "               accuracy_fn,\n",
    "               device):\n",
    "    model.to(device)  # Move model to the appropriate device just once\n",
    "    model.train()  # Set the model to training mode\n",
    "    train_loss, train_acc = 0, 0\n",
    "\n",
    "    for X, y in data_loader:\n",
    "        X, y = X.to(device), y.to(device)  # Send data to GPU/CPU\n",
    "\n",
    "        # Forward pass\n",
    "        y_pred = model(X)\n",
    "\n",
    "        # Calculate the loss\n",
    "        loss = loss_fn(y_pred, y)\n",
    "        train_loss += loss.item()  # Use .item() to convert loss to a Python number\n",
    "        train_acc += accuracy_fn(y_true=y, y_pred=y_pred.argmax(dim=1))\n",
    "\n",
    "        # Zero the gradients before running the backward pass\n",
    "        adamw_optimizer.zero_grad()\n",
    "\n",
    "        # Backward pass\n",
    "        loss.backward()\n",
    "\n",
    "        # Update weights\n",
    "        adamw_optimizer.step()\n",
    "\n",
    "    # Calculate average loss and accuracy\n",
    "    train_loss /= len(data_loader)\n",
    "    train_acc /= len(data_loader)\n",
    "    print(f\"Train loss: {train_loss:.5f} | Train accuracy: {train_acc:.2f}%\")\n",
    "    return train_loss, train_acc\n",
    "\n",
    "def testing_step(data_loader,\n",
    "              model,\n",
    "              loss_fn,\n",
    "              accuracy_fn,\n",
    "              device):\n",
    "    model.to(device)  # Ensure model is on the right device\n",
    "    model.eval()  # Set the model to evaluation mode\n",
    "    test_loss, test_acc = 0, 0\n",
    "\n",
    "    with torch.inference_mode():  # Context manager for inference mode\n",
    "        for X, y in data_loader:\n",
    "            X, y = X.to(device), y.to(device)\n",
    "\n",
    "            # Forward pass\n",
    "            test_pred = model(X)\n",
    "\n",
    "            # Calculate loss and accuracy\n",
    "            test_loss += loss_fn(test_pred, y).item()  # Detach and convert loss\n",
    "            test_acc += accuracy_fn(y_true=y, y_pred=test_pred.argmax(dim=1))\n",
    "\n",
    "    # Calculate average loss and accuracy\n",
    "    test_loss /= len(data_loader)\n",
    "    test_acc /= len(data_loader)\n",
    "    print(f\"Test loss: {test_loss:.5f} | Test accuracy: {test_acc:.2f}%\\n\")\n",
    "    return test_loss, test_acc"
   ]
  },
  {
   "cell_type": "code",
   "execution_count": 18,
   "metadata": {
    "colab": {
     "base_uri": "https://localhost:8080/"
    },
    "id": "fO1iJfA42_g4",
    "outputId": "89263a2b-3e3c-49d3-afe0-e1ebb1db94ba",
    "scrolled": true
   },
   "outputs": [
    {
     "name": "stderr",
     "output_type": "stream",
     "text": [
      "Epochs Completed:   0%|          | 0/35 [00:00<?, ?it/s]"
     ]
    },
    {
     "name": "stdout",
     "output_type": "stream",
     "text": [
      "Epoch: 1\n",
      "---------\n"
     ]
    },
    {
     "name": "stderr",
     "output_type": "stream",
     "text": [
      "/opt/conda/lib/python3.11/site-packages/torch/nn/modules/conv.py:456: UserWarning: Applied workaround for CuDNN issue, install nvrtc.so (Triggered internally at /opt/conda/conda-bld/pytorch_1702400440653/work/aten/src/ATen/native/cudnn/Conv_v8.cpp:80.)\n",
      "  return F.conv2d(input, weight, bias, self.stride,\n"
     ]
    },
    {
     "name": "stdout",
     "output_type": "stream",
     "text": [
      "Train loss: 1.62429 | Train accuracy: 37.13%\n"
     ]
    },
    {
     "name": "stderr",
     "output_type": "stream",
     "text": [
      "Epochs Completed:   3%|▎         | 1/35 [01:42<57:49, 102.05s/it]"
     ]
    },
    {
     "name": "stdout",
     "output_type": "stream",
     "text": [
      "Test loss: 1.40977 | Test accuracy: 48.36%\n",
      "\n",
      "Epoch: 2\n",
      "---------\n",
      "Train loss: 1.15335 | Train accuracy: 58.29%\n"
     ]
    },
    {
     "name": "stderr",
     "output_type": "stream",
     "text": [
      "Epochs Completed:   6%|▌         | 2/35 [03:28<57:39, 104.85s/it]"
     ]
    },
    {
     "name": "stdout",
     "output_type": "stream",
     "text": [
      "Test loss: 1.10913 | Test accuracy: 61.41%\n",
      "\n",
      "Epoch: 3\n",
      "---------\n",
      "Train loss: 0.92918 | Train accuracy: 67.05%\n"
     ]
    },
    {
     "name": "stderr",
     "output_type": "stream",
     "text": [
      "Epochs Completed:   9%|▊         | 3/35 [04:53<51:05, 95.79s/it] "
     ]
    },
    {
     "name": "stdout",
     "output_type": "stream",
     "text": [
      "Test loss: 0.93861 | Test accuracy: 68.17%\n",
      "\n",
      "Epoch: 4\n",
      "---------\n",
      "Train loss: 0.80654 | Train accuracy: 71.67%\n"
     ]
    },
    {
     "name": "stderr",
     "output_type": "stream",
     "text": [
      "Epochs Completed:  11%|█▏        | 4/35 [06:28<49:14, 95.31s/it]"
     ]
    },
    {
     "name": "stdout",
     "output_type": "stream",
     "text": [
      "Test loss: 0.90792 | Test accuracy: 70.10%\n",
      "\n",
      "Epoch: 5\n",
      "---------\n",
      "Train loss: 0.71145 | Train accuracy: 75.42%\n"
     ]
    },
    {
     "name": "stderr",
     "output_type": "stream",
     "text": [
      "Epochs Completed:  14%|█▍        | 5/35 [08:12<49:17, 98.60s/it]"
     ]
    },
    {
     "name": "stdout",
     "output_type": "stream",
     "text": [
      "Test loss: 0.69604 | Test accuracy: 76.09%\n",
      "\n",
      "Epoch: 6\n",
      "---------\n",
      "Train loss: 0.63631 | Train accuracy: 78.10%\n"
     ]
    },
    {
     "name": "stderr",
     "output_type": "stream",
     "text": [
      "Epochs Completed:  17%|█▋        | 6/35 [09:54<48:05, 99.49s/it]"
     ]
    },
    {
     "name": "stdout",
     "output_type": "stream",
     "text": [
      "Test loss: 0.66258 | Test accuracy: 77.72%\n",
      "\n",
      "Epoch: 7\n",
      "---------\n",
      "Train loss: 0.57649 | Train accuracy: 80.21%\n"
     ]
    },
    {
     "name": "stderr",
     "output_type": "stream",
     "text": [
      "Epochs Completed:  20%|██        | 7/35 [11:31<46:03, 98.71s/it]"
     ]
    },
    {
     "name": "stdout",
     "output_type": "stream",
     "text": [
      "Test loss: 0.68339 | Test accuracy: 77.28%\n",
      "\n",
      "Epoch: 8\n",
      "---------\n",
      "Train loss: 0.52254 | Train accuracy: 81.87%\n"
     ]
    },
    {
     "name": "stderr",
     "output_type": "stream",
     "text": [
      "Epochs Completed:  23%|██▎       | 8/35 [13:12<44:44, 99.41s/it]"
     ]
    },
    {
     "name": "stdout",
     "output_type": "stream",
     "text": [
      "Test loss: 0.57584 | Test accuracy: 80.66%\n",
      "\n",
      "Epoch: 9\n",
      "---------\n",
      "Train loss: 0.48680 | Train accuracy: 83.36%\n"
     ]
    },
    {
     "name": "stderr",
     "output_type": "stream",
     "text": [
      "Epochs Completed:  26%|██▌       | 9/35 [14:31<40:22, 93.17s/it]"
     ]
    },
    {
     "name": "stdout",
     "output_type": "stream",
     "text": [
      "Test loss: 0.58926 | Test accuracy: 80.54%\n",
      "\n",
      "Epoch: 10\n",
      "---------\n",
      "Train loss: 0.44950 | Train accuracy: 84.72%\n"
     ]
    },
    {
     "name": "stderr",
     "output_type": "stream",
     "text": [
      "Epochs Completed:  29%|██▊       | 10/35 [15:42<36:00, 86.43s/it]"
     ]
    },
    {
     "name": "stdout",
     "output_type": "stream",
     "text": [
      "Test loss: 0.51459 | Test accuracy: 82.94%\n",
      "\n",
      "Epoch: 11\n",
      "---------\n",
      "Train loss: 0.41560 | Train accuracy: 85.81%\n"
     ]
    },
    {
     "name": "stderr",
     "output_type": "stream",
     "text": [
      "Epochs Completed:  31%|███▏      | 11/35 [16:52<32:31, 81.32s/it]"
     ]
    },
    {
     "name": "stdout",
     "output_type": "stream",
     "text": [
      "Test loss: 0.46783 | Test accuracy: 84.47%\n",
      "\n",
      "Epoch: 12\n",
      "---------\n",
      "Train loss: 0.38467 | Train accuracy: 86.80%\n"
     ]
    },
    {
     "name": "stderr",
     "output_type": "stream",
     "text": [
      "Epochs Completed:  34%|███▍      | 12/35 [18:02<29:52, 77.95s/it]"
     ]
    },
    {
     "name": "stdout",
     "output_type": "stream",
     "text": [
      "Test loss: 0.53182 | Test accuracy: 82.62%\n",
      "\n",
      "Epoch: 13\n",
      "---------\n",
      "Train loss: 0.35835 | Train accuracy: 87.99%\n"
     ]
    },
    {
     "name": "stderr",
     "output_type": "stream",
     "text": [
      "Epochs Completed:  37%|███▋      | 13/35 [19:09<27:16, 74.38s/it]"
     ]
    },
    {
     "name": "stdout",
     "output_type": "stream",
     "text": [
      "Test loss: 0.47459 | Test accuracy: 84.09%\n",
      "\n",
      "Epoch: 14\n",
      "---------\n",
      "Train loss: 0.33811 | Train accuracy: 88.46%\n"
     ]
    },
    {
     "name": "stderr",
     "output_type": "stream",
     "text": [
      "Epochs Completed:  40%|████      | 14/35 [20:13<24:59, 71.40s/it]"
     ]
    },
    {
     "name": "stdout",
     "output_type": "stream",
     "text": [
      "Test loss: 0.46937 | Test accuracy: 84.94%\n",
      "\n",
      "Epoch: 15\n",
      "---------\n",
      "Train loss: 0.30866 | Train accuracy: 89.29%\n"
     ]
    },
    {
     "name": "stderr",
     "output_type": "stream",
     "text": [
      "Epochs Completed:  43%|████▎     | 15/35 [22:00<27:21, 82.07s/it]"
     ]
    },
    {
     "name": "stdout",
     "output_type": "stream",
     "text": [
      "Test loss: 0.43814 | Test accuracy: 85.65%\n",
      "\n",
      "Epoch: 16\n",
      "---------\n",
      "Train loss: 0.29362 | Train accuracy: 89.93%\n"
     ]
    },
    {
     "name": "stderr",
     "output_type": "stream",
     "text": [
      "Epochs Completed:  46%|████▌     | 16/35 [23:49<28:32, 90.14s/it]"
     ]
    },
    {
     "name": "stdout",
     "output_type": "stream",
     "text": [
      "Test loss: 0.43989 | Test accuracy: 85.73%\n",
      "\n",
      "Epoch: 17\n",
      "---------\n",
      "Train loss: 0.27370 | Train accuracy: 90.54%\n"
     ]
    },
    {
     "name": "stderr",
     "output_type": "stream",
     "text": [
      "Epochs Completed:  49%|████▊     | 17/35 [25:38<28:47, 95.96s/it]"
     ]
    },
    {
     "name": "stdout",
     "output_type": "stream",
     "text": [
      "Test loss: 0.40677 | Test accuracy: 86.97%\n",
      "\n",
      "Epoch: 18\n",
      "---------\n",
      "Train loss: 0.25580 | Train accuracy: 91.33%\n"
     ]
    },
    {
     "name": "stderr",
     "output_type": "stream",
     "text": [
      "Epochs Completed:  51%|█████▏    | 18/35 [27:28<28:20, 100.01s/it]"
     ]
    },
    {
     "name": "stdout",
     "output_type": "stream",
     "text": [
      "Test loss: 0.42219 | Test accuracy: 87.44%\n",
      "\n",
      "Epoch: 19\n",
      "---------\n",
      "Train loss: 0.24735 | Train accuracy: 91.50%\n"
     ]
    },
    {
     "name": "stderr",
     "output_type": "stream",
     "text": [
      "Epochs Completed:  54%|█████▍    | 19/35 [29:54<30:23, 113.98s/it]"
     ]
    },
    {
     "name": "stdout",
     "output_type": "stream",
     "text": [
      "Test loss: 0.42394 | Test accuracy: 86.53%\n",
      "\n",
      "Epoch: 20\n",
      "---------\n",
      "Train loss: 0.22707 | Train accuracy: 92.20%\n"
     ]
    },
    {
     "name": "stderr",
     "output_type": "stream",
     "text": [
      "Epochs Completed:  57%|█████▋    | 20/35 [32:11<30:11, 120.77s/it]"
     ]
    },
    {
     "name": "stdout",
     "output_type": "stream",
     "text": [
      "Test loss: 0.47608 | Test accuracy: 86.21%\n",
      "\n",
      "Epoch: 21\n",
      "---------\n",
      "Train loss: 0.22228 | Train accuracy: 92.36%\n"
     ]
    },
    {
     "name": "stderr",
     "output_type": "stream",
     "text": [
      "Epochs Completed:  60%|██████    | 21/35 [33:57<27:09, 116.42s/it]"
     ]
    },
    {
     "name": "stdout",
     "output_type": "stream",
     "text": [
      "Test loss: 0.39358 | Test accuracy: 88.17%\n",
      "\n",
      "Epoch: 22\n",
      "---------\n",
      "Train loss: 0.20739 | Train accuracy: 92.94%\n"
     ]
    },
    {
     "name": "stderr",
     "output_type": "stream",
     "text": [
      "Epochs Completed:  63%|██████▎   | 22/35 [35:42<24:29, 113.04s/it]"
     ]
    },
    {
     "name": "stdout",
     "output_type": "stream",
     "text": [
      "Test loss: 0.41310 | Test accuracy: 87.57%\n",
      "\n",
      "Epoch: 23\n",
      "---------\n",
      "Train loss: 0.19561 | Train accuracy: 93.26%\n"
     ]
    },
    {
     "name": "stderr",
     "output_type": "stream",
     "text": [
      "Epochs Completed:  66%|██████▌   | 23/35 [37:08<20:58, 104.86s/it]"
     ]
    },
    {
     "name": "stdout",
     "output_type": "stream",
     "text": [
      "Test loss: 0.40109 | Test accuracy: 87.80%\n",
      "\n",
      "Epoch: 24\n",
      "---------\n",
      "Train loss: 0.18205 | Train accuracy: 93.95%\n"
     ]
    },
    {
     "name": "stderr",
     "output_type": "stream",
     "text": [
      "Epochs Completed:  69%|██████▊   | 24/35 [38:35<18:15, 99.55s/it] "
     ]
    },
    {
     "name": "stdout",
     "output_type": "stream",
     "text": [
      "Test loss: 0.42754 | Test accuracy: 87.16%\n",
      "\n",
      "Epoch: 25\n",
      "---------\n",
      "Train loss: 0.17715 | Train accuracy: 94.02%\n"
     ]
    },
    {
     "name": "stderr",
     "output_type": "stream",
     "text": [
      "Epochs Completed:  71%|███████▏  | 25/35 [40:03<16:00, 96.07s/it]"
     ]
    },
    {
     "name": "stdout",
     "output_type": "stream",
     "text": [
      "Test loss: 0.39103 | Test accuracy: 88.54%\n",
      "\n",
      "Epoch: 26\n",
      "---------\n",
      "Train loss: 0.16471 | Train accuracy: 94.36%\n"
     ]
    },
    {
     "name": "stderr",
     "output_type": "stream",
     "text": [
      "Epochs Completed:  74%|███████▍  | 26/35 [41:53<15:00, 100.08s/it]"
     ]
    },
    {
     "name": "stdout",
     "output_type": "stream",
     "text": [
      "Test loss: 0.50034 | Test accuracy: 86.65%\n",
      "\n",
      "Epoch: 27\n",
      "---------\n",
      "Train loss: 0.16041 | Train accuracy: 94.62%\n"
     ]
    },
    {
     "name": "stderr",
     "output_type": "stream",
     "text": [
      "Epochs Completed:  77%|███████▋  | 27/35 [43:41<13:41, 102.72s/it]"
     ]
    },
    {
     "name": "stdout",
     "output_type": "stream",
     "text": [
      "Test loss: 0.42202 | Test accuracy: 88.04%\n",
      "\n",
      "Epoch: 28\n",
      "---------\n",
      "Train loss: 0.15265 | Train accuracy: 94.72%\n"
     ]
    },
    {
     "name": "stderr",
     "output_type": "stream",
     "text": [
      "Epochs Completed:  80%|████████  | 28/35 [45:32<12:15, 105.07s/it]"
     ]
    },
    {
     "name": "stdout",
     "output_type": "stream",
     "text": [
      "Test loss: 0.38451 | Test accuracy: 88.48%\n",
      "\n",
      "Epoch: 29\n",
      "---------\n",
      "Train loss: 0.15149 | Train accuracy: 94.83%\n"
     ]
    },
    {
     "name": "stderr",
     "output_type": "stream",
     "text": [
      "Epochs Completed:  83%|████████▎ | 29/35 [47:21<10:38, 106.37s/it]"
     ]
    },
    {
     "name": "stdout",
     "output_type": "stream",
     "text": [
      "Test loss: 0.46299 | Test accuracy: 86.98%\n",
      "\n",
      "Epoch: 30\n",
      "---------\n",
      "Train loss: 0.14247 | Train accuracy: 95.09%\n"
     ]
    },
    {
     "name": "stderr",
     "output_type": "stream",
     "text": [
      "Epochs Completed:  86%|████████▌ | 30/35 [49:01<08:41, 104.30s/it]"
     ]
    },
    {
     "name": "stdout",
     "output_type": "stream",
     "text": [
      "Test loss: 0.43822 | Test accuracy: 88.02%\n",
      "\n",
      "Epoch: 31\n",
      "---------\n",
      "Train loss: 0.13409 | Train accuracy: 95.37%\n"
     ]
    },
    {
     "name": "stderr",
     "output_type": "stream",
     "text": [
      "Epochs Completed:  89%|████████▊ | 31/35 [50:28<06:36, 99.15s/it] "
     ]
    },
    {
     "name": "stdout",
     "output_type": "stream",
     "text": [
      "Test loss: 0.44073 | Test accuracy: 88.37%\n",
      "\n",
      "Epoch: 32\n",
      "---------\n",
      "Train loss: 0.12787 | Train accuracy: 95.57%\n"
     ]
    },
    {
     "name": "stderr",
     "output_type": "stream",
     "text": [
      "Epochs Completed:  91%|█████████▏| 32/35 [51:59<04:50, 96.79s/it]"
     ]
    },
    {
     "name": "stdout",
     "output_type": "stream",
     "text": [
      "Test loss: 0.42804 | Test accuracy: 88.03%\n",
      "\n",
      "Epoch: 33\n",
      "---------\n",
      "Train loss: 0.12471 | Train accuracy: 95.66%\n"
     ]
    },
    {
     "name": "stderr",
     "output_type": "stream",
     "text": [
      "Epochs Completed:  94%|█████████▍| 33/35 [53:31<03:10, 95.30s/it]"
     ]
    },
    {
     "name": "stdout",
     "output_type": "stream",
     "text": [
      "Test loss: 0.48436 | Test accuracy: 88.35%\n",
      "\n",
      "Epoch: 34\n",
      "---------\n",
      "Train loss: 0.12135 | Train accuracy: 95.85%\n"
     ]
    },
    {
     "name": "stderr",
     "output_type": "stream",
     "text": [
      "Epochs Completed:  97%|█████████▋| 34/35 [55:03<01:34, 94.32s/it]"
     ]
    },
    {
     "name": "stdout",
     "output_type": "stream",
     "text": [
      "Test loss: 0.48174 | Test accuracy: 87.27%\n",
      "\n",
      "Epoch: 35\n",
      "---------\n",
      "Train loss: 0.11675 | Train accuracy: 95.98%\n"
     ]
    },
    {
     "name": "stderr",
     "output_type": "stream",
     "text": [
      "Epochs Completed: 100%|██████████| 35/35 [56:34<00:00, 96.99s/it]"
     ]
    },
    {
     "name": "stdout",
     "output_type": "stream",
     "text": [
      "Test loss: 0.41915 | Test accuracy: 88.51%\n",
      "\n"
     ]
    },
    {
     "name": "stderr",
     "output_type": "stream",
     "text": [
      "\n"
     ]
    }
   ],
   "source": [
    "from tqdm import tqdm  # Import tqdm library for progress tracking\n",
    "\n",
    "torch.manual_seed(42) # Setting random seed for reproducibility\n",
    "\n",
    "epoch_train_loss = []\n",
    "epoch_train_accuracy = []\n",
    "epoch_test_loss = []\n",
    "epoch_test_accuracy = []\n",
    "\n",
    "for epoch in tqdm(range(EPOCHS), desc=\"Epochs Completed\"):  # Iterate over epochs with tqdm progress bar\n",
    "    print(f\"Epoch: {epoch + 1}\\n---------\")  # Print current epoch number\n",
    "\n",
    "    # Perform one training step on the training data\n",
    "    train_loss, train_accuracy = training_step(data_loader=train_dataloader,\n",
    "                   model=model,\n",
    "                   loss_fn=loss_fn,\n",
    "                   optimizer=adamw_optimizer,\n",
    "                   accuracy_fn=accuracy_fn,\n",
    "                   device=device)\n",
    "\n",
    "    # Evaluate the model's performance on the test dataset\n",
    "    test_loss, test_accuracy = testing_step(data_loader=test_dataloader,\n",
    "                 model=model,\n",
    "                 loss_fn=loss_fn,\n",
    "                 accuracy_fn=accuracy_fn,\n",
    "                 device=device)\n",
    "\n",
    "    # Storing metrics to lists for later plotting\n",
    "    epoch_train_loss.append(train_loss)\n",
    "    epoch_train_accuracy.append(train_accuracy)\n",
    "    epoch_test_loss.append(test_loss)\n",
    "    epoch_test_accuracy.append(test_accuracy)\n"
   ]
  },
  {
   "cell_type": "markdown",
   "metadata": {},
   "source": [
    "#### Loss and Accuracy Curves for Training and Test Dataset"
   ]
  },
  {
   "cell_type": "code",
   "execution_count": 22,
   "metadata": {},
   "outputs": [
    {
     "data": {
      "image/png": "[encoded data removed]",
      "text/plain": [
       "<Figure size 1500x500 with 2 Axes>"
      ]
     },
     "metadata": {},
     "output_type": "display_data"
    }
   ],
   "source": [
    "sns.set_style(\"whitegrid\")\n",
    "sns.set_palette(\"colorblind\")\n",
    "\n",
    "fig, axes = plt.subplots(nrows=1, ncols=2, figsize=(15,5))\n",
    "\n",
    "sns.lineplot(ax=axes[0], x=range(EPOCHS), y=epoch_train_loss, label=\"Train\")\n",
    "sns.lineplot(ax=axes[0], x=range(EPOCHS), y=epoch_test_loss, label=\"Test\")\n",
    "axes[0].set_xlabel(\"Epoch\")\n",
    "axes[0].set_ylabel(\"Loss\")\n",
    "axes[0].legend()\n",
    "axes[0].set_title(\"Loss vs Epoch\")\n",
    "\n",
    "sns.lineplot(ax=axes[1], x=range(EPOCHS), y=epoch_train_accuracy, label=\"Train\")\n",
    "sns.lineplot(ax=axes[1], x=range(EPOCHS), y=epoch_test_accuracy, label=\"Test\")\n",
    "axes[1].set_xlabel(\"Epoch\")\n",
    "axes[1].set_ylabel(\"Accuracy\")\n",
    "axes[1].legend()\n",
    "axes[1].set_title(\"Accuracy vs Epoch\")\n",
    "plt.savefig(\"loss_accuracy_plot.png\")\n",
    "plt.show()\n"
   ]
  },
  {
   "cell_type": "markdown",
   "metadata": {},
   "source": [
    "## Model Metrics Analysis\n"
   ]
  },
  {
   "cell_type": "markdown",
   "metadata": {},
   "source": [
    "- The model was trained for 35 epochs. \n",
    "                     \n",
    "- After the final epoch, the basic model achieved a maximum training accuracy of 65.76% and a maximum test accuracy of 64.10%.\n",
    "- After the final epoch, the advanced model achieved a maximum training accuracy of 95.98% and a maximum test accuracy of 88.51%.\n",
    "\n",
    "The basic and advanced model loss and accuracy for the train and test dataset are given in the table below,\n",
    "\n",
    "\n",
    "| Model-Dataset | Loss | Accuracy |\n",
    "|---------|------|----------|\n",
    "| Advanced-Train   | 0.11675|\t95.98  |\n",
    "| Advanced-Test    | 0.41915|\t88.51  |\n",
    "| Basic-Train   | 0.94936|\t65.76  |\n",
    "| Basic-Test    | 1.101544|\t64.10  |\n"
   ]
  },
  {
   "cell_type": "markdown",
   "metadata": {},
   "source": [
    "From the provided metrics for both the Basic and Advanced models trained over 35 epochs, here are the insights concerning their performance, effectiveness, and potential areas for improvement:\n",
    "\n",
    "### Performance Analysis\n",
    "\n",
    "1. **Training and Testing Accuracy:**\n",
    "   - **Advanced Model:** Attained a high training accuracy of 95.98% but lower test accuracy, amounting to 88.51%. This 7% difference in training and test accuracy indicates that the advanced model learns the training dataset very well and generalizes reasonably to unseen data.\n",
    "   - **Basic Model:** Training accuracy was 65.76%, and test accuracy was 64.10%. Although the training and testing results are close, the basic model exhibits an inability to capture the complexity of the dataset as effectively as the advanced model.\n",
    "\n",
    "2. **Loss Metrics:**\n",
    "   - **Advanced Model:** Recorded training and test losses of 0.11675 and 0.41915, respectively. The relatively lower training loss attests to effective learning, but the rise in test loss suggests minimal overfitting, though not significantly.\n",
    "   - **Basic Model:** Exhibited higher training and test losses of 0.94936 and 1.101544, respectively. These higher losses at both training and testing phases indicate inadequate learning and generalization, pointing to potential underfitting or an inability to capture necessary patterns in the data."
   ]
  }
 ],
 "metadata": {
  "colab": {
   "collapsed_sections": [
    "nora-lGEri5Z",
    "dORkdmTouvUR",
    "sik_l3Ify2r_",
    "IQWScrcq2ea-",
    "DhhkFUpJ5yjF",
    "2IeFSPQUCoGV",
    "Du-B_df4iGVD"
   ],
   "provenance": [],
   "toc_visible": true
  },
  "kernelspec": {
   "display_name": "Python 3 (ipykernel)",
   "language": "python",
   "name": "python3"
  },
  "language_info": {
   "codemirror_mode": {
    "name": "ipython",
    "version": 3
   },
   "file_extension": ".py",
   "mimetype": "text/x-python",
   "name": "python",
   "nbconvert_exporter": "python",
   "pygments_lexer": "ipython3",
   "version": "3.11.7"
  },
  "widgets": {
   "application/vnd.jupyter.widget-state+json": {
    "2521110d6d8f412abb47d9bdbbabcbf5": {
     "model_module": "@jupyter-widgets/controls",
     "model_module_version": "1.5.0",
     "model_name": "ProgressStyleModel",
     "state": {
      "_model_module": "@jupyter-widgets/controls",
      "_model_module_version": "1.5.0",
      "_model_name": "ProgressStyleModel",
      "_view_count": null,
      "_view_module": "@jupyter-widgets/base",
      "_view_module_version": "1.2.0",
      "_view_name": "StyleView",
      "bar_color": null,
      "description_width": ""
     }
    },
    "4234c7367d4d4d88a90dfab36053d4ad": {
     "model_module": "@jupyter-widgets/controls",
     "model_module_version": "1.5.0",
     "model_name": "HTMLModel",
     "state": {
      "_dom_classes": [],
      "_model_module": "@jupyter-widgets/controls",
      "_model_module_version": "1.5.0",
      "_model_name": "HTMLModel",
      "_view_count": null,
      "_view_module": "@jupyter-widgets/controls",
      "_view_module_version": "1.5.0",
      "_view_name": "HTMLView",
      "description": "",
      "description_tooltip": null,
      "layout": "IPY_MODEL_5c36b6db294348f2958e824fc6ecde4a",
      "placeholder": "​",
      "style": "IPY_MODEL_aee7464c7535428cbd41d26d48f5fb64",
      "value": "100%"
     }
    },
    "5c36b6db294348f2958e824fc6ecde4a": {
     "model_module": "@jupyter-widgets/base",
     "model_module_version": "1.2.0",
     "model_name": "LayoutModel",
     "state": {
      "_model_module": "@jupyter-widgets/base",
      "_model_module_version": "1.2.0",
      "_model_name": "LayoutModel",
      "_view_count": null,
      "_view_module": "@jupyter-widgets/base",
      "_view_module_version": "1.2.0",
      "_view_name": "LayoutView",
      "align_content": null,
      "align_items": null,
      "align_self": null,
      "border": null,
      "bottom": null,
      "display": null,
      "flex": null,
      "flex_flow": null,
      "grid_area": null,
      "grid_auto_columns": null,
      "grid_auto_flow": null,
      "grid_auto_rows": null,
      "grid_column": null,
      "grid_gap": null,
      "grid_row": null,
      "grid_template_areas": null,
      "grid_template_columns": null,
      "grid_template_rows": null,
      "height": null,
      "justify_content": null,
      "justify_items": null,
      "left": null,
      "margin": null,
      "max_height": null,
      "max_width": null,
      "min_height": null,
      "min_width": null,
      "object_fit": null,
      "object_position": null,
      "order": null,
      "overflow": null,
      "overflow_x": null,
      "overflow_y": null,
      "padding": null,
      "right": null,
      "top": null,
      "visibility": null,
      "width": null
     }
    },
    "83e655bff7664c0b9bc40154ac20ce91": {
     "model_module": "@jupyter-widgets/controls",
     "model_module_version": "1.5.0",
     "model_name": "HBoxModel",
     "state": {
      "_dom_classes": [],
      "_model_module": "@jupyter-widgets/controls",
      "_model_module_version": "1.5.0",
      "_model_name": "HBoxModel",
      "_view_count": null,
      "_view_module": "@jupyter-widgets/controls",
      "_view_module_version": "1.5.0",
      "_view_name": "HBoxView",
      "box_style": "",
      "children": [
       "IPY_MODEL_4234c7367d4d4d88a90dfab36053d4ad",
       "IPY_MODEL_e371921c7c494f36a0967b373e8218c7",
       "IPY_MODEL_d4b61c85f86645cea3839527469c2018"
      ],
      "layout": "IPY_MODEL_e95d11e3997d4a19be6b60694881ec2c"
     }
    },
    "99a66bf4c50246369b13a5a3cdd590f4": {
     "model_module": "@jupyter-widgets/base",
     "model_module_version": "1.2.0",
     "model_name": "LayoutModel",
     "state": {
      "_model_module": "@jupyter-widgets/base",
      "_model_module_version": "1.2.0",
      "_model_name": "LayoutModel",
      "_view_count": null,
      "_view_module": "@jupyter-widgets/base",
      "_view_module_version": "1.2.0",
      "_view_name": "LayoutView",
      "align_content": null,
      "align_items": null,
      "align_self": null,
      "border": null,
      "bottom": null,
      "display": null,
      "flex": null,
      "flex_flow": null,
      "grid_area": null,
      "grid_auto_columns": null,
      "grid_auto_flow": null,
      "grid_auto_rows": null,
      "grid_column": null,
      "grid_gap": null,
      "grid_row": null,
      "grid_template_areas": null,
      "grid_template_columns": null,
      "grid_template_rows": null,
      "height": null,
      "justify_content": null,
      "justify_items": null,
      "left": null,
      "margin": null,
      "max_height": null,
      "max_width": null,
      "min_height": null,
      "min_width": null,
      "object_fit": null,
      "object_position": null,
      "order": null,
      "overflow": null,
      "overflow_x": null,
      "overflow_y": null,
      "padding": null,
      "right": null,
      "top": null,
      "visibility": null,
      "width": null
     }
    },
    "a088e67496ec4d878d8edf3346476988": {
     "model_module": "@jupyter-widgets/base",
     "model_module_version": "1.2.0",
     "model_name": "LayoutModel",
     "state": {
      "_model_module": "@jupyter-widgets/base",
      "_model_module_version": "1.2.0",
      "_model_name": "LayoutModel",
      "_view_count": null,
      "_view_module": "@jupyter-widgets/base",
      "_view_module_version": "1.2.0",
      "_view_name": "LayoutView",
      "align_content": null,
      "align_items": null,
      "align_self": null,
      "border": null,
      "bottom": null,
      "display": null,
      "flex": null,
      "flex_flow": null,
      "grid_area": null,
      "grid_auto_columns": null,
      "grid_auto_flow": null,
      "grid_auto_rows": null,
      "grid_column": null,
      "grid_gap": null,
      "grid_row": null,
      "grid_template_areas": null,
      "grid_template_columns": null,
      "grid_template_rows": null,
      "height": null,
      "justify_content": null,
      "justify_items": null,
      "left": null,
      "margin": null,
      "max_height": null,
      "max_width": null,
      "min_height": null,
      "min_width": null,
      "object_fit": null,
      "object_position": null,
      "order": null,
      "overflow": null,
      "overflow_x": null,
      "overflow_y": null,
      "padding": null,
      "right": null,
      "top": null,
      "visibility": null,
      "width": null
     }
    },
    "aee7464c7535428cbd41d26d48f5fb64": {
     "model_module": "@jupyter-widgets/controls",
     "model_module_version": "1.5.0",
     "model_name": "DescriptionStyleModel",
     "state": {
      "_model_module": "@jupyter-widgets/controls",
      "_model_module_version": "1.5.0",
      "_model_name": "DescriptionStyleModel",
      "_view_count": null,
      "_view_module": "@jupyter-widgets/base",
      "_view_module_version": "1.2.0",
      "_view_name": "StyleView",
      "description_width": ""
     }
    },
    "cad3afefe9294037818f25f5b164f9f5": {
     "model_module": "@jupyter-widgets/controls",
     "model_module_version": "1.5.0",
     "model_name": "DescriptionStyleModel",
     "state": {
      "_model_module": "@jupyter-widgets/controls",
      "_model_module_version": "1.5.0",
      "_model_name": "DescriptionStyleModel",
      "_view_count": null,
      "_view_module": "@jupyter-widgets/base",
      "_view_module_version": "1.2.0",
      "_view_name": "StyleView",
      "description_width": ""
     }
    },
    "d4b61c85f86645cea3839527469c2018": {
     "model_module": "@jupyter-widgets/controls",
     "model_module_version": "1.5.0",
     "model_name": "HTMLModel",
     "state": {
      "_dom_classes": [],
      "_model_module": "@jupyter-widgets/controls",
      "_model_module_version": "1.5.0",
      "_model_name": "HTMLModel",
      "_view_count": null,
      "_view_module": "@jupyter-widgets/controls",
      "_view_module_version": "1.5.0",
      "_view_name": "HTMLView",
      "description": "",
      "description_tooltip": null,
      "layout": "IPY_MODEL_a088e67496ec4d878d8edf3346476988",
      "placeholder": "​",
      "style": "IPY_MODEL_cad3afefe9294037818f25f5b164f9f5",
      "value": " 10/10 [05:33&lt;00:00, 32.46s/it]"
     }
    },
    "e371921c7c494f36a0967b373e8218c7": {
     "model_module": "@jupyter-widgets/controls",
     "model_module_version": "1.5.0",
     "model_name": "FloatProgressModel",
     "state": {
      "_dom_classes": [],
      "_model_module": "@jupyter-widgets/controls",
      "_model_module_version": "1.5.0",
      "_model_name": "FloatProgressModel",
      "_view_count": null,
      "_view_module": "@jupyter-widgets/controls",
      "_view_module_version": "1.5.0",
      "_view_name": "ProgressView",
      "bar_style": "success",
      "description": "",
      "description_tooltip": null,
      "layout": "IPY_MODEL_99a66bf4c50246369b13a5a3cdd590f4",
      "max": 10,
      "min": 0,
      "orientation": "horizontal",
      "style": "IPY_MODEL_2521110d6d8f412abb47d9bdbbabcbf5",
      "value": 10
     }
    },
    "e95d11e3997d4a19be6b60694881ec2c": {
     "model_module": "@jupyter-widgets/base",
     "model_module_version": "1.2.0",
     "model_name": "LayoutModel",
     "state": {
      "_model_module": "@jupyter-widgets/base",
      "_model_module_version": "1.2.0",
      "_model_name": "LayoutModel",
      "_view_count": null,
      "_view_module": "@jupyter-widgets/base",
      "_view_module_version": "1.2.0",
      "_view_name": "LayoutView",
      "align_content": null,
      "align_items": null,
      "align_self": null,
      "border": null,
      "bottom": null,
      "display": null,
      "flex": null,
      "flex_flow": null,
      "grid_area": null,
      "grid_auto_columns": null,
      "grid_auto_flow": null,
      "grid_auto_rows": null,
      "grid_column": null,
      "grid_gap": null,
      "grid_row": null,
      "grid_template_areas": null,
      "grid_template_columns": null,
      "grid_template_rows": null,
      "height": null,
      "justify_content": null,
      "justify_items": null,
      "left": null,
      "margin": null,
      "max_height": null,
      "max_width": null,
      "min_height": null,
      "min_width": null,
      "object_fit": null,
      "object_position": null,
      "order": null,
      "overflow": null,
      "overflow_x": null,
      "overflow_y": null,
      "padding": null,
      "right": null,
      "top": null,
      "visibility": null,
      "width": null
     }
    }
   }
  }
 },
 "nbformat": 4,
 "nbformat_minor": 4
}
